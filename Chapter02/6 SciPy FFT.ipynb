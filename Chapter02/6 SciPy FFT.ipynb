{
 "cells": [
  {
   "cell_type": "code",
   "execution_count": 1,
   "metadata": {},
   "outputs": [
    {
     "data": {
      "text/plain": [
       "array([ 8.0+0.j        ,  0.5+0.36327126j,  0.5+1.53884177j,\n",
       "        0.5-1.53884177j,  0.5-0.36327126j])"
      ]
     },
     "execution_count": 1,
     "metadata": {},
     "output_type": "execute_result"
    }
   ],
   "source": [
    "from scipy.fftpack import fft\n",
    "import numpy as np\n",
    "\n",
    "x = np.array([2.0, 1.0, 2.0, 1.0, 2.0])\n",
    "fft(x)"
   ]
  },
  {
   "cell_type": "code",
   "execution_count": 2,
   "metadata": {},
   "outputs": [
    {
     "data": {
      "image/png": "[encoded data removed]",
      "text/plain": [
       "<matplotlib.figure.Figure at 0x26f02daa710>"
      ]
     },
     "metadata": {},
     "output_type": "display_data"
    }
   ],
   "source": [
    "from scipy.fftpack import fft\n",
    "import numpy as np\n",
    "\n",
    "# how many points\n",
    "n = 100\n",
    "spacing = 1.0 / 250.0\n",
    "x = np.linspace(0.0, n*spacing, n)\n",
    "y = np.sin(30.0 * np.pi * x) + 0.5 * np.sin(7.0 * np.pi * x)\n",
    "yf = fft(y)\n",
    "xf = np.linspace(0.0, 1.0/(2.0*spacing), n//2)\n",
    "\n",
    "#plot the data to get a visual\n",
    "import matplotlib.pyplot as plt\n",
    "plt.plot(xf, 2.0/n * np.abs(yf[0:n//2]))\n",
    "plt.grid()\n",
    "plt.show()"
   ]
  }
 ],
 "metadata": {
  "kernelspec": {
   "display_name": "Python 3",
   "language": "python",
   "name": "python3"
  },
  "language_info": {
   "codemirror_mode": {
    "name": "ipython",
    "version": 3
   },
   "file_extension": ".py",
   "mimetype": "text/x-python",
   "name": "python",
   "nbconvert_exporter": "python",
   "pygments_lexer": "ipython3",
   "version": "3.6.2"
  }
 },
 "nbformat": 4,
 "nbformat_minor": 1
}
