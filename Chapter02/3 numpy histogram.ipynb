{
 "cells": [
  {
   "cell_type": "code",
   "execution_count": 1,
   "metadata": {},
   "outputs": [
    {
     "name": "stdout",
     "output_type": "stream",
     "text": [
      "Histogram is  [197 187 201 221 195 221 183 205 194 196]\n",
      "Correlation of the two rows is  [161131]\n"
     ]
    }
   ],
   "source": [
    "# numpy histogram\n",
    "import numpy as np\n",
    "import random\n",
    "\n",
    "# build up 2 sets of random numbers\n",
    "\n",
    "# setup empty array 2 columns, 1000 rows\n",
    "numbers = np.empty([2,1000], int)\n",
    "\n",
    "# set seed so we can repeat results\n",
    "random.seed(137)\n",
    "\n",
    "# populate the array\n",
    "for num in range(0, 1000):\n",
    "    numbers[0,num] = random.randint(0, 1000)\n",
    "    numbers[1,num] = random.randint(0, 1000)\n",
    "    \n",
    "# produce a histogram of the data\n",
    "(hist, bins) = np.histogram(numbers, bins = 10, range = (0,1000))\n",
    "print(\"Histogram is \",hist)\n",
    "\n",
    "# calculate correlation between the 2 columns\n",
    "\n",
    "corrs = np.correlate(numbers[:,1], numbers[:,2], mode='valid')\n",
    "print(\"Correlation of the two rows is \", corrs)"
   ]
  }
 ],
 "metadata": {
  "kernelspec": {
   "display_name": "Python 3",
   "language": "python",
   "name": "python3"
  },
  "language_info": {
   "codemirror_mode": {
    "name": "ipython",
    "version": 3
   },
   "file_extension": ".py",
   "mimetype": "text/x-python",
   "name": "python",
   "nbconvert_exporter": "python",
   "pygments_lexer": "ipython3",
   "version": "3.6.2"
  }
 },
 "nbformat": 4,
 "nbformat_minor": 2
}
