{
 "cells": [
  {
   "cell_type": "code",
   "execution_count": 1,
   "metadata": {
    "collapsed": false
   },
   "outputs": [
    {
     "name": "stdout",
     "output_type": "stream",
     "text": [
      "Retrieving prices for AMD from https://www.google.com/finance/historical?q=NASDAQ:AMD\n",
      "The last day of pricing information we have is:\n",
      "{'date': 'Oct 3, 2017', 'open': '12.73', 'high': '13.48', 'low': '12.70', 'close': '13.42', 'volume': '85,174,031'}\n"
     ]
    }
   ],
   "source": [
    "from lxml import html  \n",
    "import requests\n",
    "from time import sleep\n",
    "\n",
    "# setup the URL for the symbol we are interested in\n",
    "exchange = \"NASDAQ\"\n",
    "ticker = \"AMD\"\n",
    "url = \"https://www.google.com/finance/historical?q=%s:%s\"%(exchange,ticker)\n",
    "\n",
    "# retrieve the web page\n",
    "response = requests.get(url)\n",
    "print(\"Retrieving prices for %s from %s\"%(ticker,url))\n",
    "# give it a few seconds in case there is some delay\n",
    "sleep(3)\n",
    "\n",
    "# convert the text into an HTML Document\n",
    "parser = html.fromstring(response.text)\n",
    "\n",
    "# find the HTML DIV tag that has id 'prices'\n",
    "price_store = parser.get_element_by_id(\"prices\")\n",
    "\n",
    "# we will store our price information in the price_data list\n",
    "price_data = []\n",
    "\n",
    "# find the HTML TABLE element within the prices DIV\n",
    "for table in price_store:\n",
    "\n",
    "    #every row (skip first row headings) of table has\n",
    "    #  date, open, high, low, close, volume\n",
    "    for row in table[1:]:\n",
    "\n",
    "        #store tuples for a day together\n",
    "        day = {\"date\":row[0].text.strip('\\n'), \\\n",
    "               \"open\":row[1].text.strip('\\n'), \\\n",
    "               \"high\":row[2].text.strip('\\n'), \\\n",
    "               \"low\":row[3].text.strip('\\n'), \\\n",
    "               \"close\":row[4].text.strip('\\n'), \\\n",
    "               \"volume\":row[5].text.strip('\\n')}\n",
    "        \n",
    "        #add day's information to our set\n",
    "        price_data.append(day)\n",
    "\n",
    "print(\"The last day of pricing information we have is:\")\n",
    "print(price_data[0])"
   ]
  }
 ],
 "metadata": {
  "kernelspec": {
   "display_name": "Python 3",
   "language": "python",
   "name": "python3"
  },
  "language_info": {
   "codemirror_mode": {
    "name": "ipython",
    "version": 3
   },
   "file_extension": ".py",
   "mimetype": "text/x-python",
   "name": "python",
   "nbconvert_exporter": "python",
   "pygments_lexer": "ipython3",
   "version": "3.6.0"
  }
 },
 "nbformat": 4,
 "nbformat_minor": 2
}
