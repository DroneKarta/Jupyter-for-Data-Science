{
 "cells": [
  {
   "cell_type": "code",
   "execution_count": 11,
   "metadata": {
    "collapsed": false
   },
   "outputs": [
    {
     "data": {
      "text/plain": [
       "0.907958984375"
      ]
     },
     "execution_count": 11,
     "metadata": {},
     "output_type": "execute_result"
    }
   ],
   "source": [
    "import numpy as np\n",
    "import math\n",
    "\n",
    "N = 14     # number of flips\n",
    "m = 3      # length of run (must be  > 1 and <= N/2)\n",
    "p = 0.5   # P(heads)\n",
    "\n",
    "prob = np.repeat(0.0,N)\n",
    "h = np.repeat(0.0,N)\n",
    "t = np.repeat(0.0,N)\n",
    "\n",
    "h[m] = math.pow(p,m)\n",
    "t[m] = math.pow(1-p,m)\n",
    "prob[m] = h[m] + t[m]\n",
    "\n",
    "for n in range(m+1,2*m):\n",
    "  h[n] = (1-p)*math.pow(p,m)\n",
    "  t[n] = p*math.pow(1-p,m)\n",
    "  prob[n] = prob[n-1] + h[n] + t[n]\n",
    "\n",
    "\n",
    "for n in range(2*m,N):\n",
    "  h[n] = ((1-p) - t[n-m] - prob[n-m-1]*(1-p))*math.pow(p,m)\n",
    "  t[n] = (p - h[n-m] - prob[n-m-1]*p)*math.pow(1-p,m)\n",
    "  prob[n] = prob[n-1] + h[n] + t[n]\n",
    "\n",
    "prob[N-1]"
   ]
  }
 ],
 "metadata": {
  "kernelspec": {
   "display_name": "Python 3",
   "language": "python",
   "name": "python3"
  },
  "language_info": {
   "codemirror_mode": {
    "name": "ipython",
    "version": 3
   },
   "file_extension": ".py",
   "mimetype": "text/x-python",
   "name": "python",
   "nbconvert_exporter": "python",
   "pygments_lexer": "ipython3",
   "version": "3.6.0"
  }
 },
 "nbformat": 4,
 "nbformat_minor": 2
}
