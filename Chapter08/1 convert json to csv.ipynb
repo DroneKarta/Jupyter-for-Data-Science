{
 "cells": [
  {
   "cell_type": "code",
   "execution_count": null,
   "metadata": {
    "scrolled": true
   },
   "outputs": [],
   "source": [
    "import time\n",
    "import datetime\n",
    "import json, csv\n",
    "\n",
    "print( datetime.datetime.now().time())\n",
    "\n",
    "headers = True\n",
    "filein = 'c:/Users/Dan/yelp_academic_dataset_business.json'\n",
    "fileout = 'c:/Users/Dan/yelp_academic_dataset_review.csv'\n",
    "with open(filein, encoding=\"cp866\") as jsonf, open(fileout, \"w\") as csvf:\n",
    "    for line in jsonf:\n",
    "        data = json.loads(line)        \n",
    "        #remove the review text\n",
    "        data.pop('text')\n",
    "        #print(data)               \n",
    "        if headers:\n",
    "            keys = []\n",
    "            for k, v in data.items():\n",
    "                keys.append(k)\n",
    "            #print(keys)\n",
    "            writer = csv.DictWriter(csvf, fieldnames=keys)\n",
    "            writer.writeheader()\n",
    "            headers = False\n",
    "        writer.writerow(data)\n",
    "    \n",
    "print( datetime.datetime.now().time())"
   ]
  }
 ],
 "metadata": {
  "kernelspec": {
   "display_name": "Python 3",
   "language": "python",
   "name": "python3"
  },
  "language_info": {
   "codemirror_mode": {
    "name": "ipython",
    "version": 3
   },
   "file_extension": ".py",
   "mimetype": "text/x-python",
   "name": "python",
   "nbconvert_exporter": "python",
   "pygments_lexer": "ipython3",
   "version": "3.6.0"
  }
 },
 "nbformat": 4,
 "nbformat_minor": 2
}
