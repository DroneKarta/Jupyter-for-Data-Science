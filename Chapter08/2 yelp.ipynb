{
 "cells": [
  {
   "cell_type": "code",
   "execution_count": 1,
   "metadata": {},
   "outputs": [
    {
     "data": {
      "text/html": [
       "'Tue Oct 17 2:39:35 PM 2017'"
      ],
      "text/latex": [
       "'Tue Oct 17 2:39:35 PM 2017'"
      ],
      "text/markdown": [
       "'Tue Oct 17 2:39:35 PM 2017'"
      ],
      "text/plain": [
       "[1] \"Tue Oct 17 2:39:35 PM 2017\""
      ]
     },
     "metadata": {},
     "output_type": "display_data"
    },
    {
     "data": {
      "text/html": [
       "'Tue Oct 17 2:42:01 PM 2017'"
      ],
      "text/latex": [
       "'Tue Oct 17 2:42:01 PM 2017'"
      ],
      "text/markdown": [
       "'Tue Oct 17 2:42:01 PM 2017'"
      ],
      "text/plain": [
       "[1] \"Tue Oct 17 2:42:01 PM 2017\""
      ]
     },
     "metadata": {},
     "output_type": "display_data"
    }
   ],
   "source": [
    "format(Sys.time(), \"%a %b %d %X %Y\")\n",
    "reviews <- read.csv(\"yelp_academic_dataset_review.csv\")\n",
    "format(Sys.time(), \"%a %b %d %X %Y\")"
   ]
  },
  {
   "cell_type": "code",
   "execution_count": 2,
   "metadata": {},
   "outputs": [
    {
     "data": {
      "text/plain": [
       "     funny                            user_id       \n",
       " Min.   :  0.0000   CxDOIDnH8gp9KXzpBHJYXw:   3327  \n",
       " 1st Qu.:  0.0000   bLbSNkLggFnqwNNzzq-Ijw:   1795  \n",
       " Median :  0.0000   PKEzKWv_FktMm2mGPjwd0Q:   1509  \n",
       " Mean   :  0.4195   QJI9OSEn6ujRCtrX06vs1w:   1316  \n",
       " 3rd Qu.:  0.0000   DK57YibC5ShBmqQl97CKog:   1266  \n",
       " Max.   :632.0000   d_TBs6J3twMy9GChqUEXkg:   1091  \n",
       "                    (Other)               :4142846  \n",
       "                  review_id                       business_id     \n",
       " ----X0BIDP9tA49U3RvdSQ:      1   4JNXUYY8wbaaDmk3BPzlWw:   6414  \n",
       " ---0hl58W-sjVTKi5LghGw:      1   RESDUcs7fIiihp38-d6_6g:   5715  \n",
       " ---3OXpexMp0oAg77xWfYA:      1   K7lWdNUhCbcnEvI0NhGewg:   5216  \n",
       " ---65iIIGzHj96QnOh89EQ:      1   cYwJA2A6I12KNkm2rtXd5g:   5116  \n",
       " ---7WhU-FtzSUOje87Y4uw:      1   DkYS3arLOhA8si5uUEmHOw:   4655  \n",
       " ---94vtJ_5o_nikEs6hUjg:      1   hihud--QRriCYZw1zZvW4g:   4120  \n",
       " (Other)               :4153144   (Other)               :4121914  \n",
       "     stars               date             useful             type        \n",
       " Min.   :1.000   2016-02-15:   3632   Min.   :   0.000   review:4153150  \n",
       " 1st Qu.:3.000   2017-01-15:   3600   1st Qu.:   0.000                   \n",
       " Median :4.000   2016-08-14:   3593   Median :   0.000                   \n",
       " Mean   :3.723   2016-04-03:   3588   Mean   :   1.008                   \n",
       " 3rd Qu.:5.000   2016-07-31:   3566   3rd Qu.:   1.000                   \n",
       " Max.   :5.000   2016-07-10:   3559   Max.   :1125.000                   \n",
       "                 (Other)   :4131612                                      \n",
       "      cool         \n",
       " Min.   :  0.0000  \n",
       " 1st Qu.:  0.0000  \n",
       " Median :  0.0000  \n",
       " Mean   :  0.5262  \n",
       " 3rd Qu.:  0.0000  \n",
       " Max.   :513.0000  \n",
       "                   "
      ]
     },
     "metadata": {},
     "output_type": "display_data"
    }
   ],
   "source": [
    "summary(reviews)"
   ]
  },
  {
   "cell_type": "code",
   "execution_count": 3,
   "metadata": {},
   "outputs": [
    {
     "data": {
      "text/html": [
       "<table>\n",
       "<thead><tr><th scope=col>funny</th><th scope=col>user_id</th><th scope=col>review_id</th><th scope=col>business_id</th><th scope=col>stars</th><th scope=col>date</th><th scope=col>useful</th><th scope=col>type</th><th scope=col>cool</th></tr></thead>\n",
       "<tbody>\n",
       "\t<tr><td>0                     </td><td>KpkOkG6RIf4Ra25Lhhxf1A</td><td>NxL8SIC5yqOdnlXCg18IBg</td><td>2aFiy99vNLklCx3T_tGS9A</td><td>5                     </td><td>2011-10-10            </td><td>0                     </td><td>review                </td><td>0                     </td></tr>\n",
       "\t<tr><td>0                     </td><td>bQ7fQq1otn9hKX-gXRsrgA</td><td>pXbbIgOXvLuTi_SPs1hQEQ</td><td>2aFiy99vNLklCx3T_tGS9A</td><td>5                     </td><td>2010-12-29            </td><td>1                     </td><td>review                </td><td>0                     </td></tr>\n",
       "\t<tr><td>0                     </td><td>r1NUhdNmL6yU9Bn-Yx6FTw</td><td>wslW2Lu4NYylb1jEapAGsw</td><td>2aFiy99vNLklCx3T_tGS9A</td><td>5                     </td><td>2011-04-29            </td><td>0                     </td><td>review                </td><td>0                     </td></tr>\n",
       "\t<tr><td>0                     </td><td>aW3ix1KNZAvoM8q-WghA3Q</td><td>GP6YEearUWrzPtQYSF1vVg</td><td>2LfIuF3_sX6uwe-IR-P0jQ</td><td>5                     </td><td>2014-07-14            </td><td>0                     </td><td>review                </td><td>1                     </td></tr>\n",
       "\t<tr><td>0                     </td><td>YOo-Cip8HqvKp_p9nEGphw</td><td>25RlYGq2s5qShi-pn3ufVA</td><td>2LfIuF3_sX6uwe-IR-P0jQ</td><td>4                     </td><td>2014-01-15            </td><td>0                     </td><td>review                </td><td>0                     </td></tr>\n",
       "\t<tr><td>0                     </td><td>bgl3j8yJcRO-00NkUYsXGQ</td><td>Uf1Ki1yyH_JDKhLvn2e4FQ</td><td>2LfIuF3_sX6uwe-IR-P0jQ</td><td>5                     </td><td>2013-04-28            </td><td>2                     </td><td>review                </td><td>1                     </td></tr>\n",
       "</tbody>\n",
       "</table>\n"
      ],
      "text/latex": [
       "\\begin{tabular}{r|lllllllll}\n",
       " funny & user\\_id & review\\_id & business\\_id & stars & date & useful & type & cool\\\\\n",
       "\\hline\n",
       "\t 0                        & KpkOkG6RIf4Ra25Lhhxf1A   & NxL8SIC5yqOdnlXCg18IBg   & 2aFiy99vNLklCx3T\\_tGS9A & 5                        & 2011-10-10               & 0                        & review                   & 0                       \\\\\n",
       "\t 0                        & bQ7fQq1otn9hKX-gXRsrgA   & pXbbIgOXvLuTi\\_SPs1hQEQ & 2aFiy99vNLklCx3T\\_tGS9A & 5                        & 2010-12-29               & 1                        & review                   & 0                       \\\\\n",
       "\t 0                        & r1NUhdNmL6yU9Bn-Yx6FTw   & wslW2Lu4NYylb1jEapAGsw   & 2aFiy99vNLklCx3T\\_tGS9A & 5                        & 2011-04-29               & 0                        & review                   & 0                       \\\\\n",
       "\t 0                        & aW3ix1KNZAvoM8q-WghA3Q   & GP6YEearUWrzPtQYSF1vVg   & 2LfIuF3\\_sX6uwe-IR-P0jQ & 5                        & 2014-07-14               & 0                        & review                   & 1                       \\\\\n",
       "\t 0                        & YOo-Cip8HqvKp\\_p9nEGphw & 25RlYGq2s5qShi-pn3ufVA   & 2LfIuF3\\_sX6uwe-IR-P0jQ & 4                        & 2014-01-15               & 0                        & review                   & 0                       \\\\\n",
       "\t 0                        & bgl3j8yJcRO-00NkUYsXGQ   & Uf1Ki1yyH\\_JDKhLvn2e4FQ & 2LfIuF3\\_sX6uwe-IR-P0jQ & 5                        & 2013-04-28               & 2                        & review                   & 1                       \\\\\n",
       "\\end{tabular}\n"
      ],
      "text/markdown": [
       "\n",
       "funny | user_id | review_id | business_id | stars | date | useful | type | cool | \n",
       "|---|---|---|---|---|---|\n",
       "| 0                      | KpkOkG6RIf4Ra25Lhhxf1A | NxL8SIC5yqOdnlXCg18IBg | 2aFiy99vNLklCx3T_tGS9A | 5                      | 2011-10-10             | 0                      | review                 | 0                      | \n",
       "| 0                      | bQ7fQq1otn9hKX-gXRsrgA | pXbbIgOXvLuTi_SPs1hQEQ | 2aFiy99vNLklCx3T_tGS9A | 5                      | 2010-12-29             | 1                      | review                 | 0                      | \n",
       "| 0                      | r1NUhdNmL6yU9Bn-Yx6FTw | wslW2Lu4NYylb1jEapAGsw | 2aFiy99vNLklCx3T_tGS9A | 5                      | 2011-04-29             | 0                      | review                 | 0                      | \n",
       "| 0                      | aW3ix1KNZAvoM8q-WghA3Q | GP6YEearUWrzPtQYSF1vVg | 2LfIuF3_sX6uwe-IR-P0jQ | 5                      | 2014-07-14             | 0                      | review                 | 1                      | \n",
       "| 0                      | YOo-Cip8HqvKp_p9nEGphw | 25RlYGq2s5qShi-pn3ufVA | 2LfIuF3_sX6uwe-IR-P0jQ | 4                      | 2014-01-15             | 0                      | review                 | 0                      | \n",
       "| 0                      | bgl3j8yJcRO-00NkUYsXGQ | Uf1Ki1yyH_JDKhLvn2e4FQ | 2LfIuF3_sX6uwe-IR-P0jQ | 5                      | 2013-04-28             | 2                      | review                 | 1                      | \n",
       "\n",
       "\n"
      ],
      "text/plain": [
       "  funny user_id                review_id              business_id           \n",
       "1 0     KpkOkG6RIf4Ra25Lhhxf1A NxL8SIC5yqOdnlXCg18IBg 2aFiy99vNLklCx3T_tGS9A\n",
       "2 0     bQ7fQq1otn9hKX-gXRsrgA pXbbIgOXvLuTi_SPs1hQEQ 2aFiy99vNLklCx3T_tGS9A\n",
       "3 0     r1NUhdNmL6yU9Bn-Yx6FTw wslW2Lu4NYylb1jEapAGsw 2aFiy99vNLklCx3T_tGS9A\n",
       "4 0     aW3ix1KNZAvoM8q-WghA3Q GP6YEearUWrzPtQYSF1vVg 2LfIuF3_sX6uwe-IR-P0jQ\n",
       "5 0     YOo-Cip8HqvKp_p9nEGphw 25RlYGq2s5qShi-pn3ufVA 2LfIuF3_sX6uwe-IR-P0jQ\n",
       "6 0     bgl3j8yJcRO-00NkUYsXGQ Uf1Ki1yyH_JDKhLvn2e4FQ 2LfIuF3_sX6uwe-IR-P0jQ\n",
       "  stars date       useful type   cool\n",
       "1 5     2011-10-10 0      review 0   \n",
       "2 5     2010-12-29 1      review 0   \n",
       "3 5     2011-04-29 0      review 0   \n",
       "4 5     2014-07-14 0      review 1   \n",
       "5 4     2014-01-15 0      review 0   \n",
       "6 5     2013-04-28 2      review 1   "
      ]
     },
     "metadata": {},
     "output_type": "display_data"
    }
   ],
   "source": [
    "head(reviews)"
   ]
  },
  {
   "cell_type": "code",
   "execution_count": 4,
   "metadata": {},
   "outputs": [
    {
     "data": {
      "image/png": "[encoded data removed]",
      "text/plain": [
       "Plot with title \"Histogram of reviews$stars\""
      ]
     },
     "metadata": {},
     "output_type": "display_data"
    }
   ],
   "source": [
    "hist(reviews$stars)"
   ]
  },
  {
   "cell_type": "code",
   "execution_count": 5,
   "metadata": {},
   "outputs": [
    {
     "name": "stderr",
     "output_type": "stream",
     "text": [
      "also installing the dependencies 'blob', 'memoise', 'gsubfn', 'proto', 'RSQLite', 'DBI'\n",
      "\n"
     ]
    },
    {
     "name": "stdout",
     "output_type": "stream",
     "text": [
      "package 'blob' successfully unpacked and MD5 sums checked\n",
      "package 'memoise' successfully unpacked and MD5 sums checked\n",
      "package 'gsubfn' successfully unpacked and MD5 sums checked\n",
      "package 'proto' successfully unpacked and MD5 sums checked\n",
      "package 'RSQLite' successfully unpacked and MD5 sums checked\n",
      "package 'DBI' successfully unpacked and MD5 sums checked\n",
      "package 'sqldf' successfully unpacked and MD5 sums checked\n",
      "\n",
      "The downloaded binary packages are in\n",
      "\tC:\\Users\\prasadr\\AppData\\Local\\Temp\\RtmpuUndHc\\downloaded_packages\n"
     ]
    },
    {
     "name": "stderr",
     "output_type": "stream",
     "text": [
      "Warning message:\n",
      "\"package 'sqldf' was built under R version 3.4.2\"Loading required package: gsubfn\n",
      "Warning message:\n",
      "\"package 'gsubfn' was built under R version 3.4.2\"Loading required package: proto\n",
      "Warning message:\n",
      "\"package 'proto' was built under R version 3.4.2\"Could not load tcltk.  Will use slower R code instead.\n",
      "Loading required package: RSQLite\n"
     ]
    },
    {
     "data": {
      "text/html": [
       "<table>\n",
       "<thead><tr><th scope=col>business_id</th><th scope=col>count(*)</th></tr></thead>\n",
       "<tbody>\n",
       "\t<tr><td>hihud--QRriCYZw1zZvW4g</td><td>3115                  </td></tr>\n",
       "\t<tr><td>4JNXUYY8wbaaDmk3BPzlWw</td><td>2774                  </td></tr>\n",
       "\t<tr><td>DkYS3arLOhA8si5uUEmHOw</td><td>2330                  </td></tr>\n",
       "\t<tr><td>RESDUcs7fIiihp38-d6_6g</td><td>2230                  </td></tr>\n",
       "\t<tr><td>cYwJA2A6I12KNkm2rtXd5g</td><td>2026                  </td></tr>\n",
       "\t<tr><td>KskYqH1Bi7Z_61pH6Om8pg</td><td>1860                  </td></tr>\n",
       "</tbody>\n",
       "</table>\n"
      ],
      "text/latex": [
       "\\begin{tabular}{r|ll}\n",
       " business\\_id & count(*)\\\\\n",
       "\\hline\n",
       "\t hihud--QRriCYZw1zZvW4g & 3115                  \\\\\n",
       "\t 4JNXUYY8wbaaDmk3BPzlWw & 2774                  \\\\\n",
       "\t DkYS3arLOhA8si5uUEmHOw & 2330                  \\\\\n",
       "\t RESDUcs7fIiihp38-d6\\_6g & 2230                    \\\\\n",
       "\t cYwJA2A6I12KNkm2rtXd5g & 2026                  \\\\\n",
       "\t KskYqH1Bi7Z\\_61pH6Om8pg & 1860                    \\\\\n",
       "\\end{tabular}\n"
      ],
      "text/markdown": [
       "\n",
       "business_id | count(*) | \n",
       "|---|---|---|---|---|---|\n",
       "| hihud--QRriCYZw1zZvW4g | 3115                   | \n",
       "| 4JNXUYY8wbaaDmk3BPzlWw | 2774                   | \n",
       "| DkYS3arLOhA8si5uUEmHOw | 2330                   | \n",
       "| RESDUcs7fIiihp38-d6_6g | 2230                   | \n",
       "| cYwJA2A6I12KNkm2rtXd5g | 2026                   | \n",
       "| KskYqH1Bi7Z_61pH6Om8pg | 1860                   | \n",
       "\n",
       "\n"
      ],
      "text/plain": [
       "  business_id            count(*)\n",
       "1 hihud--QRriCYZw1zZvW4g 3115    \n",
       "2 4JNXUYY8wbaaDmk3BPzlWw 2774    \n",
       "3 DkYS3arLOhA8si5uUEmHOw 2330    \n",
       "4 RESDUcs7fIiihp38-d6_6g 2230    \n",
       "5 cYwJA2A6I12KNkm2rtXd5g 2026    \n",
       "6 KskYqH1Bi7Z_61pH6Om8pg 1860    "
      ]
     },
     "metadata": {},
     "output_type": "display_data"
    }
   ],
   "source": [
    "#businesses with most 5 star ratings\n",
    "install.packages(\"sqldf\", repos='http://cran.us.r-project.org')\n",
    "library(sqldf)\n",
    "five_stars = sqldf(\"select business_id, count(*) from reviews where stars = 5 group by business_id order by 2 desc\")\n",
    "head(five_stars)"
   ]
  },
  {
   "cell_type": "code",
   "execution_count": 6,
   "metadata": {},
   "outputs": [
    {
     "data": {
      "text/html": [
       "<table>\n",
       "<thead><tr><th scope=col>business_id</th><th scope=col>count(*)</th></tr></thead>\n",
       "<tbody>\n",
       "\t<tr><td>4JNXUYY8wbaaDmk3BPzlWw</td><td>6414                  </td></tr>\n",
       "\t<tr><td>RESDUcs7fIiihp38-d6_6g</td><td>5715                  </td></tr>\n",
       "\t<tr><td>K7lWdNUhCbcnEvI0NhGewg</td><td>5216                  </td></tr>\n",
       "\t<tr><td>cYwJA2A6I12KNkm2rtXd5g</td><td>5116                  </td></tr>\n",
       "\t<tr><td>DkYS3arLOhA8si5uUEmHOw</td><td>4655                  </td></tr>\n",
       "\t<tr><td>hihud--QRriCYZw1zZvW4g</td><td>4120                  </td></tr>\n",
       "</tbody>\n",
       "</table>\n"
      ],
      "text/latex": [
       "\\begin{tabular}{r|ll}\n",
       " business\\_id & count(*)\\\\\n",
       "\\hline\n",
       "\t 4JNXUYY8wbaaDmk3BPzlWw & 6414                  \\\\\n",
       "\t RESDUcs7fIiihp38-d6\\_6g & 5715                    \\\\\n",
       "\t K7lWdNUhCbcnEvI0NhGewg & 5216                  \\\\\n",
       "\t cYwJA2A6I12KNkm2rtXd5g & 5116                  \\\\\n",
       "\t DkYS3arLOhA8si5uUEmHOw & 4655                  \\\\\n",
       "\t hihud--QRriCYZw1zZvW4g & 4120                  \\\\\n",
       "\\end{tabular}\n"
      ],
      "text/markdown": [
       "\n",
       "business_id | count(*) | \n",
       "|---|---|---|---|---|---|\n",
       "| 4JNXUYY8wbaaDmk3BPzlWw | 6414                   | \n",
       "| RESDUcs7fIiihp38-d6_6g | 5715                   | \n",
       "| K7lWdNUhCbcnEvI0NhGewg | 5216                   | \n",
       "| cYwJA2A6I12KNkm2rtXd5g | 5116                   | \n",
       "| DkYS3arLOhA8si5uUEmHOw | 4655                   | \n",
       "| hihud--QRriCYZw1zZvW4g | 4120                   | \n",
       "\n",
       "\n"
      ],
      "text/plain": [
       "  business_id            count(*)\n",
       "1 4JNXUYY8wbaaDmk3BPzlWw 6414    \n",
       "2 RESDUcs7fIiihp38-d6_6g 5715    \n",
       "3 K7lWdNUhCbcnEvI0NhGewg 5216    \n",
       "4 cYwJA2A6I12KNkm2rtXd5g 5116    \n",
       "5 DkYS3arLOhA8si5uUEmHOw 4655    \n",
       "6 hihud--QRriCYZw1zZvW4g 4120    "
      ]
     },
     "metadata": {},
     "output_type": "display_data"
    }
   ],
   "source": [
    "#which places have most ratings\n",
    "library(sqldf)\n",
    "most_ratings = sqldf(\"select business_id, count(*) from reviews group by business_id order by 2 desc\")\n",
    "head(most_ratings)"
   ]
  },
  {
   "cell_type": "code",
   "execution_count": 7,
   "metadata": {},
   "outputs": [
    {
     "data": {
      "image/png": "[encoded data removed]",
      "text/plain": [
       "Plot with title \"Histogram of most_rated$stars\""
      ]
     },
     "metadata": {},
     "output_type": "display_data"
    }
   ],
   "source": [
    "# range of ratings for business with most ratings\n",
    "library(sqldf)\n",
    "most_rated = sqldf(\"select * from reviews where business_id = '4JNXUYY8wbaaDmk3BPzlWw' \")\n",
    "hist(most_rated$stars)"
   ]
  },
  {
   "cell_type": "code",
   "execution_count": 8,
   "metadata": {},
   "outputs": [
    {
     "data": {
      "text/html": [
       "<table>\n",
       "<thead><tr><th scope=col>stars</th><th scope=col>reviews</th></tr></thead>\n",
       "<tbody>\n",
       "\t<tr><td>1      </td><td> 540377</td></tr>\n",
       "\t<tr><td>2      </td><td> 358550</td></tr>\n",
       "\t<tr><td>3      </td><td> 517369</td></tr>\n",
       "\t<tr><td>4      </td><td>1032654</td></tr>\n",
       "\t<tr><td>5      </td><td>1704200</td></tr>\n",
       "</tbody>\n",
       "</table>\n"
      ],
      "text/latex": [
       "\\begin{tabular}{r|ll}\n",
       " stars & reviews\\\\\n",
       "\\hline\n",
       "\t 1       &  540377\\\\\n",
       "\t 2       &  358550\\\\\n",
       "\t 3       &  517369\\\\\n",
       "\t 4       & 1032654\\\\\n",
       "\t 5       & 1704200\\\\\n",
       "\\end{tabular}\n"
      ],
      "text/markdown": [
       "\n",
       "stars | reviews | \n",
       "|---|---|---|---|---|\n",
       "| 1       |  540377 | \n",
       "| 2       |  358550 | \n",
       "| 3       |  517369 | \n",
       "| 4       | 1032654 | \n",
       "| 5       | 1704200 | \n",
       "\n",
       "\n"
      ],
      "text/plain": [
       "  stars reviews\n",
       "1 1      540377\n",
       "2 2      358550\n",
       "3 3      517369\n",
       "4 4     1032654\n",
       "5 5     1704200"
      ]
     },
     "metadata": {},
     "output_type": "display_data"
    },
    {
     "data": {
      "text/html": [
       "<table>\n",
       "<thead><tr><th></th><th scope=col>stars</th><th scope=col>reviews</th></tr></thead>\n",
       "<tbody>\n",
       "\t<tr><th scope=row>stars</th><td>1.0000000</td><td>0.8632361</td></tr>\n",
       "\t<tr><th scope=row>reviews</th><td>0.8632361</td><td>1.0000000</td></tr>\n",
       "</tbody>\n",
       "</table>\n"
      ],
      "text/latex": [
       "\\begin{tabular}{r|ll}\n",
       "  & stars & reviews\\\\\n",
       "\\hline\n",
       "\tstars & 1.0000000 & 0.8632361\\\\\n",
       "\treviews & 0.8632361 & 1.0000000\\\\\n",
       "\\end{tabular}\n"
      ],
      "text/markdown": [
       "\n",
       "| <!--/--> | stars | reviews | \n",
       "|---|---|\n",
       "| stars | 1.0000000 | 0.8632361 | \n",
       "| reviews | 0.8632361 | 1.0000000 | \n",
       "\n",
       "\n"
      ],
      "text/plain": [
       "        stars     reviews  \n",
       "stars   1.0000000 0.8632361\n",
       "reviews 0.8632361 1.0000000"
      ]
     },
     "metadata": {},
     "output_type": "display_data"
    }
   ],
   "source": [
    "# correlation number of reviews and number of stars\n",
    "library(sqldf)\n",
    "reviews_stars = sqldf(\"select stars,count(*) as reviews from reviews group by stars\")\n",
    "reviews_stars\n",
    "cor(reviews_stars)"
   ]
  },
  {
   "cell_type": "code",
   "execution_count": 9,
   "metadata": {},
   "outputs": [
    {
     "data": {
      "text/html": [
       "<table>\n",
       "<thead><tr><th scope=col>business_id</th><th scope=col>rating</th></tr></thead>\n",
       "<tbody>\n",
       "\t<tr><td>--WsruI0IGEoeRmkErU5Gg</td><td>5                     </td></tr>\n",
       "\t<tr><td>--cgVkbWTiga3OYTkymKqA</td><td>5                     </td></tr>\n",
       "\t<tr><td>--lpHMVmkCuji0ZrpHtXEA</td><td>5                     </td></tr>\n",
       "\t<tr><td>--sdH6tFAdEs7j4Msr7nPA</td><td>5                     </td></tr>\n",
       "\t<tr><td>-000aQFeK6tqVLndf7xORg</td><td>5                     </td></tr>\n",
       "\t<tr><td>-03HVYxkeYWaafEpNJo1SA</td><td>5                     </td></tr>\n",
       "</tbody>\n",
       "</table>\n"
      ],
      "text/latex": [
       "\\begin{tabular}{r|ll}\n",
       " business\\_id & rating\\\\\n",
       "\\hline\n",
       "\t --WsruI0IGEoeRmkErU5Gg & 5                     \\\\\n",
       "\t --cgVkbWTiga3OYTkymKqA & 5                     \\\\\n",
       "\t --lpHMVmkCuji0ZrpHtXEA & 5                     \\\\\n",
       "\t --sdH6tFAdEs7j4Msr7nPA & 5                     \\\\\n",
       "\t -000aQFeK6tqVLndf7xORg & 5                     \\\\\n",
       "\t -03HVYxkeYWaafEpNJo1SA & 5                     \\\\\n",
       "\\end{tabular}\n"
      ],
      "text/markdown": [
       "\n",
       "business_id | rating | \n",
       "|---|---|---|---|---|---|\n",
       "| --WsruI0IGEoeRmkErU5Gg | 5                      | \n",
       "| --cgVkbWTiga3OYTkymKqA | 5                      | \n",
       "| --lpHMVmkCuji0ZrpHtXEA | 5                      | \n",
       "| --sdH6tFAdEs7j4Msr7nPA | 5                      | \n",
       "| -000aQFeK6tqVLndf7xORg | 5                      | \n",
       "| -03HVYxkeYWaafEpNJo1SA | 5                      | \n",
       "\n",
       "\n"
      ],
      "text/plain": [
       "  business_id            rating\n",
       "1 --WsruI0IGEoeRmkErU5Gg 5     \n",
       "2 --cgVkbWTiga3OYTkymKqA 5     \n",
       "3 --lpHMVmkCuji0ZrpHtXEA 5     \n",
       "4 --sdH6tFAdEs7j4Msr7nPA 5     \n",
       "5 -000aQFeK6tqVLndf7xORg 5     \n",
       "6 -03HVYxkeYWaafEpNJo1SA 5     "
      ]
     },
     "metadata": {},
     "output_type": "display_data"
    },
    {
     "data": {
      "image/png": "[encoded data removed]",
      "text/plain": [
       "Plot with title \"Histogram of business_rating$rating\""
      ]
     },
     "metadata": {},
     "output_type": "display_data"
    }
   ],
   "source": [
    "#correlation business and rating\n",
    "library(sqldf)\n",
    "business_rating = sqldf(\"select business_id, avg(stars) as rating from reviews group by business_id order by 2 desc\")\n",
    "head(business_rating)\n",
    "hist(business_rating$rating)"
   ]
  },
  {
   "cell_type": "code",
   "execution_count": 10,
   "metadata": {},
   "outputs": [
    {
     "data": {
      "text/plain": [
       "\n",
       "Call:\n",
       "lm(formula = stars ~ funny + useful + cool, data = reviews)\n",
       "\n",
       "Residuals:\n",
       "    Min      1Q  Median      3Q     Max \n",
       "-21.591  -0.773   0.227   1.227 101.763 \n",
       "\n",
       "Coefficients:\n",
       "              Estimate Std. Error t value Pr(>|t|)    \n",
       "(Intercept)  3.7732752  0.0007266  5193.0   <2e-16 ***\n",
       "funny       -0.1505152  0.0007393  -203.6   <2e-16 ***\n",
       "useful      -0.1528960  0.0004952  -308.8   <2e-16 ***\n",
       "cool         0.3169540  0.0007418   427.3   <2e-16 ***\n",
       "---\n",
       "Signif. codes:  0 '***' 0.001 '**' 0.01 '*' 0.05 '.' 0.1 ' ' 1\n",
       "\n",
       "Residual standard error: 1.372 on 4153146 degrees of freedom\n",
       "Multiple R-squared:  0.04644,\tAdjusted R-squared:  0.04643 \n",
       "F-statistic: 6.741e+04 on 3 and 4153146 DF,  p-value: < 2.2e-16\n"
      ]
     },
     "metadata": {},
     "output_type": "display_data"
    }
   ],
   "source": [
    "model <- lm(stars ~ funny + useful + cool, data=reviews)\n",
    "summary(model)\n"
   ]
  },
  {
   "cell_type": "code",
   "execution_count": null,
   "metadata": {
    "collapsed": true
   },
   "outputs": [],
   "source": []
  }
 ],
 "metadata": {
  "kernelspec": {
   "display_name": "R",
   "language": "R",
   "name": "ir"
  },
  "language_info": {
   "codemirror_mode": "r",
   "file_extension": ".r",
   "mimetype": "text/x-r-source",
   "name": "R",
   "pygments_lexer": "r",
   "version": "3.4.1"
  }
 },
 "nbformat": 4,
 "nbformat_minor": 2
}
