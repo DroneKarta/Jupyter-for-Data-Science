{
 "cells": [
  {
   "cell_type": "code",
   "execution_count": null,
   "metadata": {
    "collapsed": true
   },
   "outputs": [],
   "source": [
    "import json\n",
    "filein = 'business.json'\n",
    "filein = 'yelp_academic_dataset_business.json'\n",
    "lines = list(open(filein))\n",
    "\n",
    "ratings = {}\n",
    "for line in lines:\n",
    "    line = unicode(line, errors='ignore')\n",
    "    obj = json.loads(line)\n",
    "    if obj['categories'] == None:\n",
    "        continue\n",
    "    if 'Restaurants' in obj['categories']:\n",
    "        rating = obj['stars']\n",
    "        for category in obj['categories']:\n",
    "            if category not in ratings:\n",
    "                ratings[category] = []\n",
    "            clist = ratings.get(category)\n",
    "            clist.append(rating)\n",
    "\n",
    "cuisines = {}\n",
    "total = 0\n",
    "cmax = ''\n",
    "maxc = 0\n",
    "for cuisine in ratings:\n",
    "    clist = ratings[cuisine]\n",
    "    if len(clist) < 10:\n",
    "        continue\n",
    "    avg = float(sum(clist))/len(clist)\n",
    "    cuisines[cuisine] = avg\n",
    "    total = total + avg\n",
    "    if avg > maxc:\n",
    "        maxc = avg\n",
    "        cmax = cuisine\n",
    "        \n",
    "print(\"Highest rated cuisine is \",cmax,\" at \",maxc)\n",
    "print(\"Average cuisine rating is \",total/len(ratings))\n",
    "    \n",
    "print(cuisines)"
   ]
  },
  {
   "cell_type": "code",
   "execution_count": null,
   "metadata": {
    "collapsed": true
   },
   "outputs": [],
   "source": [
    "import pandas as pd\n",
    "import numpy as np\n",
    "df = pd.DataFrame(columns=['Cuisine', 'Rating'])\n",
    "for cuisine in cuisines:\n",
    "    df.loc[len(df)]=[cuisine, cuisines[cuisine]]\n",
    "hist, bin_edges = np.histogram(df['Rating'], bins=range(5))\n",
    "\n",
    "import matplotlib.pyplot as plt\n",
    "plt.bar(bin_edges[:-1], hist, width = 1)\n",
    "plt.xlim(min(bin_edges), max(bin_edges))\n",
    "plt.show()   "
   ]
  },
  {
   "cell_type": "code",
   "execution_count": null,
   "metadata": {
    "collapsed": true
   },
   "outputs": [],
   "source": [
    "for line in lines:\n",
    "    line = unicode(line, errors='ignore')\n",
    "    obj = json.loads(line)\n",
    "    if obj['categories'] == None:\n",
    "        continue\n",
    "    if 'Personal Chefs' in obj['categories']:\n",
    "        if obj['attributes'] == None:\n",
    "            continue\n",
    "        for attr in obj['attributes']:\n",
    "            print (attr)"
   ]
  },
  {
   "cell_type": "code",
   "execution_count": null,
   "metadata": {
    "collapsed": true
   },
   "outputs": [],
   "source": [
    "#determine relationship between number of reviews and star rating\n",
    "import pandas as pd\n",
    "from pandas import DataFrame as df  \n",
    "import numpy as np  \n",
    "\n",
    "dfr2 = pd.DataFrame(columns=['reviews', 'rating'])\n",
    "mynparray = dfr2.values\n",
    "\n",
    "for line in lines:\n",
    "    line = unicode(line, errors='ignore')\n",
    "    obj = json.loads(line)\n",
    "    reviews = int(obj['review_count'])\n",
    "    rating = float(obj['stars'])\n",
    "    arow = [reviews,rating]\n",
    "    mynparray = np.vstack((mynparray,arow)) \n",
    "\n",
    "dfr2 = df(mynparray)\n",
    "print len(dfr2)"
   ]
  },
  {
   "cell_type": "code",
   "execution_count": null,
   "metadata": {
    "collapsed": true
   },
   "outputs": [],
   "source": [
    "dfr2.columns = ['reviews', 'rating']\n",
    "dfr2.describe()"
   ]
  },
  {
   "cell_type": "code",
   "execution_count": null,
   "metadata": {
    "collapsed": true
   },
   "outputs": [],
   "source": [
    "#import matplotlib.pyplot as plt\n",
    "dfr2.plot(kind='scatter', x='rating', y='reviews')\n",
    "plt.show()"
   ]
  },
  {
   "cell_type": "code",
   "execution_count": null,
   "metadata": {
    "collapsed": true
   },
   "outputs": [],
   "source": [
    "#compute regression\n",
    "import statsmodels.formula.api as smf\n",
    "\n",
    "# create a fitted model in one line\n",
    "lm = smf.ols(formula='rating ~ reviews', data=dfr2).fit()\n",
    "\n",
    "# print the coefficients\n",
    "lm.params"
   ]
  },
  {
   "cell_type": "code",
   "execution_count": null,
   "metadata": {
    "collapsed": true
   },
   "outputs": [],
   "source": [
    "#min, max observed values\n",
    "X_new = pd.DataFrame({'reviews': [dfr2.reviews.min(), dfr2.reviews.max()]})\n",
    "X_new.head()"
   ]
  },
  {
   "cell_type": "code",
   "execution_count": null,
   "metadata": {
    "collapsed": true
   },
   "outputs": [],
   "source": [
    "#make corresponding predictions\n",
    "preds = lm.predict(X_new)\n",
    "preds"
   ]
  },
  {
   "cell_type": "code",
   "execution_count": null,
   "metadata": {
    "collapsed": true
   },
   "outputs": [],
   "source": [
    "# first, plot the observed data\n",
    "dfr2.plot(kind='scatter', x='reviews', y='rating')\n",
    "\n",
    "# then, plot the least squares line\n",
    "plt.plot(X_new, preds, c='red', linewidth=2)\n",
    "plt.show()"
   ]
  }
 ],
 "metadata": {
  "kernelspec": {
   "display_name": "Python 3",
   "language": "python",
   "name": "python3"
  },
  "language_info": {
   "codemirror_mode": {
    "name": "ipython",
    "version": 3
   },
   "file_extension": ".py",
   "mimetype": "text/x-python",
   "name": "python",
   "nbconvert_exporter": "python",
   "pygments_lexer": "ipython3",
   "version": "3.6.0"
  }
 },
 "nbformat": 4,
 "nbformat_minor": 2
}
