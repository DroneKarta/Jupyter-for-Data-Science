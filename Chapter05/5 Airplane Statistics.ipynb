{
 "cells": [
  {
   "cell_type": "code",
   "execution_count": 2,
   "metadata": {},
   "outputs": [
    {
     "data": {
      "text/plain": [
       "      Year          Month          DayofMonth      DayOfWeek    \n",
       " Min.   :2008   Min.   : 1.000   Min.   : 1.00   Min.   :1.000  \n",
       " 1st Qu.:2008   1st Qu.: 3.000   1st Qu.: 8.00   1st Qu.:2.000  \n",
       " Median :2008   Median : 6.000   Median :16.00   Median :4.000  \n",
       " Mean   :2008   Mean   : 6.375   Mean   :15.73   Mean   :3.924  \n",
       " 3rd Qu.:2008   3rd Qu.: 9.000   3rd Qu.:23.00   3rd Qu.:6.000  \n",
       " Max.   :2008   Max.   :12.000   Max.   :31.00   Max.   :7.000  \n",
       "                                                                \n",
       "    DepTime         CRSDepTime      ArrTime         CRSArrTime  \n",
       " Min.   :   1     Min.   :   0   Min.   :   1     Min.   :   0  \n",
       " 1st Qu.: 928     1st Qu.: 925   1st Qu.:1107     1st Qu.:1115  \n",
       " Median :1325     Median :1320   Median :1512     Median :1517  \n",
       " Mean   :1334     Mean   :1326   Mean   :1481     Mean   :1495  \n",
       " 3rd Qu.:1728     3rd Qu.:1715   3rd Qu.:1909     3rd Qu.:1907  \n",
       " Max.   :2400     Max.   :2359   Max.   :2400     Max.   :2400  \n",
       " NA's   :136246                  NA's   :151649                 \n",
       " UniqueCarrier       FlightNum       TailNum        ActualElapsedTime\n",
       " WN     :1201754   Min.   :   1          :  83365   Min.   :  12.0   \n",
       " AA     : 604885   1st Qu.: 622   N476HA :   4701   1st Qu.:  77.0   \n",
       " OO     : 567159   Median :1571   N477HA :   4548   Median : 110.0   \n",
       " MQ     : 490693   Mean   :2224   N484HA :   4505   Mean   : 127.3   \n",
       " US     : 453589   3rd Qu.:3518   N475HA :   4499   3rd Qu.: 157.0   \n",
       " DL     : 451931   Max.   :9743   N480HA :   4416   Max.   :1379.0   \n",
       " (Other):3239717                  (Other):6903694   NA's   :154699   \n",
       " CRSElapsedTime      AirTime          ArrDelay          DepDelay      \n",
       " Min.   :-141.0   Min.   :   0     Min.   :-519.00   Min.   :-534.00  \n",
       " 1st Qu.:  80.0   1st Qu.:  55     1st Qu.: -10.00   1st Qu.:  -4.00  \n",
       " Median : 110.0   Median :  86     Median :  -2.00   Median :  -1.00  \n",
       " Mean   : 128.9   Mean   : 104     Mean   :   8.17   Mean   :   9.97  \n",
       " 3rd Qu.: 159.0   3rd Qu.: 132     3rd Qu.:  12.00   3rd Qu.:   8.00  \n",
       " Max.   :1435.0   Max.   :1350     Max.   :2461.00   Max.   :2467.00  \n",
       " NA's   :844      NA's   :154699   NA's   :154699    NA's   :136246   \n",
       "     Origin             Dest            Distance          TaxiIn      \n",
       " ATL    : 414513   ATL    : 414521   Min.   :  11.0   Min.   :  0.00  \n",
       " ORD    : 350380   ORD    : 350452   1st Qu.: 325.0   1st Qu.:  4.00  \n",
       " DFW    : 281281   DFW    : 281401   Median : 581.0   Median :  6.00  \n",
       " DEN    : 241443   DEN    : 241470   Mean   : 726.4   Mean   :  6.86  \n",
       " LAX    : 215608   LAX    : 215685   3rd Qu.: 954.0   3rd Qu.:  8.00  \n",
       " PHX    : 199408   PHX    : 199416   Max.   :4962.0   Max.   :308.00  \n",
       " (Other):5307095   (Other):5306783                    NA's   :151649  \n",
       "    TaxiOut         Cancelled       CancellationCode    Diverted       \n",
       " Min.   :  0.00   Min.   :0.00000    :6872294        Min.   :0.000000  \n",
       " 1st Qu.: 10.00   1st Qu.:0.00000   A:  54330        1st Qu.:0.000000  \n",
       " Median : 14.00   Median :0.00000   B:  54904        Median :0.000000  \n",
       " Mean   : 16.45   Mean   :0.01961   C:  28188        Mean   :0.002463  \n",
       " 3rd Qu.: 19.00   3rd Qu.:0.00000   D:     12        3rd Qu.:0.000000  \n",
       " Max.   :429.00   Max.   :1.00000                    Max.   :1.000000  \n",
       " NA's   :137058                                                        \n",
       "  CarrierDelay      WeatherDelay        NASDelay       SecurityDelay    \n",
       " Min.   :   0      Min.   :   0      Min.   :   0      Min.   :  0      \n",
       " 1st Qu.:   0      1st Qu.:   0      1st Qu.:   0      1st Qu.:  0      \n",
       " Median :   0      Median :   0      Median :   6      Median :  0      \n",
       " Mean   :  16      Mean   :   3      Mean   :  17      Mean   :  0      \n",
       " 3rd Qu.:  16      3rd Qu.:   0      3rd Qu.:  21      3rd Qu.:  0      \n",
       " Max.   :2436      Max.   :1352      Max.   :1357      Max.   :392      \n",
       " NA's   :5484993   NA's   :5484993   NA's   :5484993   NA's   :5484993  \n",
       " LateAircraftDelay\n",
       " Min.   :   0     \n",
       " 1st Qu.:   0     \n",
       " Median :   0     \n",
       " Mean   :  21     \n",
       " 3rd Qu.:  26     \n",
       " Max.   :1316     \n",
       " NA's   :5484993  "
      ]
     },
     "metadata": {},
     "output_type": "display_data"
    }
   ],
   "source": [
    "df <- read.csv(\"2008.csv\")\n",
    "summary(df)"
   ]
  },
  {
   "cell_type": "code",
   "execution_count": 3,
   "metadata": {},
   "outputs": [
    {
     "data": {
      "text/html": [
       "1524735"
      ],
      "text/latex": [
       "1524735"
      ],
      "text/markdown": [
       "1524735"
      ],
      "text/plain": [
       "[1] 1524735"
      ]
     },
     "metadata": {},
     "output_type": "display_data"
    }
   ],
   "source": [
    "# eliminate rows with NA values (original count over 7 million)\n",
    "df <- na.omit(df)\n",
    "# for partitioning to work data has to be ordered\n",
    "times <- df[order(df$ArrTime),]\n",
    "nrow(times)"
   ]
  },
  {
   "cell_type": "code",
   "execution_count": 4,
   "metadata": {},
   "outputs": [
    {
     "name": "stderr",
     "output_type": "stream",
     "text": [
      "Warning message:\n",
      "\"package 'caret' was built under R version 3.4.2\"Loading required package: lattice\n",
      "Warning message:\n",
      "\"package 'lattice' was built under R version 3.4.2\"\n",
      "Attaching package: 'lattice'\n",
      "\n",
      "The following object is masked from 'package:boot':\n",
      "\n",
      "    melanoma\n",
      "\n",
      "Loading required package: ggplot2\n",
      "Warning message:\n",
      "\"package 'ggplot2' was built under R version 3.4.2\"\n",
      "Attaching package: 'caret'\n",
      "\n",
      "The following object is masked from 'package:survival':\n",
      "\n",
      "    cluster\n",
      "\n"
     ]
    },
    {
     "data": {
      "text/html": [
       "1143553"
      ],
      "text/latex": [
       "1143553"
      ],
      "text/markdown": [
       "1143553"
      ],
      "text/plain": [
       "[1] 1143553"
      ]
     },
     "metadata": {},
     "output_type": "display_data"
    },
    {
     "data": {
      "text/html": [
       "381182"
      ],
      "text/latex": [
       "381182"
      ],
      "text/markdown": [
       "381182"
      ],
      "text/plain": [
       "[1] 381182"
      ]
     },
     "metadata": {},
     "output_type": "display_data"
    }
   ],
   "source": [
    "# partition data - 75% training\n",
    "library(caret)\n",
    "set.seed(1337)\n",
    "trainingIndices <- createDataPartition(df$ArrTime,p=0.75,list=FALSE)\n",
    "trainingSet <- df[trainingIndices,]\n",
    "testingSet <- df[-trainingIndices,]\n",
    "nrow(trainingSet)\n",
    "nrow(testingSet)"
   ]
  },
  {
   "cell_type": "code",
   "execution_count": 5,
   "metadata": {},
   "outputs": [
    {
     "data": {
      "text/plain": [
       "\n",
       "Call:\n",
       "lm(formula = ArrTime ~ CRSArrTime + ArrDelay + DepDelay + Diverted + \n",
       "    CarrierDelay + WeatherDelay + NASDelay + SecurityDelay + \n",
       "    LateAircraftDelay, data = trainingSet)\n",
       "\n",
       "Residuals:\n",
       "    Min      1Q  Median      3Q     Max \n",
       "-2139.0   -62.2    91.9   215.6  3739.7 \n",
       "\n",
       "Coefficients: (2 not defined because of singularities)\n",
       "                    Estimate Std. Error t value Pr(>|t|)    \n",
       "(Intercept)        5.318e+02  1.654e+00 321.584  < 2e-16 ***\n",
       "CRSArrTime         6.814e-01  9.567e-04 712.243  < 2e-16 ***\n",
       "ArrDelay          -1.806e+00  2.877e-02 -62.763  < 2e-16 ***\n",
       "DepDelay           3.065e-01  2.492e-02  12.299  < 2e-16 ***\n",
       "Diverted                  NA         NA      NA       NA    \n",
       "CarrierDelay       8.872e-01  1.505e-02  58.962  < 2e-16 ***\n",
       "WeatherDelay       6.033e-01  2.528e-02  23.867  < 2e-16 ***\n",
       "NASDelay           1.690e+00  1.945e-02  86.930  < 2e-16 ***\n",
       "SecurityDelay      7.563e-01  2.369e-01   3.192  0.00141 ** \n",
       "LateAircraftDelay         NA         NA      NA       NA    \n",
       "---\n",
       "Signif. codes:  0 '***' 0.001 '**' 0.01 '*' 0.05 '.' 0.1 ' ' 1\n",
       "\n",
       "Residual standard error: 473.4 on 1143545 degrees of freedom\n",
       "Multiple R-squared:  0.3134,\tAdjusted R-squared:  0.3134 \n",
       "F-statistic: 7.458e+04 on 7 and 1143545 DF,  p-value: < 2.2e-16\n"
      ]
     },
     "metadata": {},
     "output_type": "display_data"
    }
   ],
   "source": [
    "model <- lm(ArrTime ~ CRSArrTime + ArrDelay + DepDelay + Diverted + \n",
    "            CarrierDelay + WeatherDelay + NASDelay + SecurityDelay + LateAircraftDelay, \n",
    "            data=trainingSet)\n",
    "summary(model)"
   ]
  },
  {
   "cell_type": "code",
   "execution_count": 6,
   "metadata": {},
   "outputs": [
    {
     "name": "stderr",
     "output_type": "stream",
     "text": [
      "Warning message in predict.lm(model, newdata = testingSet):\n",
      "\"prediction from a rank-deficient fit may be misleading\""
     ]
    },
    {
     "data": {
      "text/plain": [
       "   Min. 1st Qu.  Median    Mean 3rd Qu.    Max. \n",
       "   -941    1360    1629    1590    1843    2217 "
      ]
     },
     "metadata": {},
     "output_type": "display_data"
    },
    {
     "data": {
      "text/plain": [
       "   Min. 1st Qu.  Median    Mean 3rd Qu.    Max. \n",
       "      1    1249    1711    1590    2034    2400 "
      ]
     },
     "metadata": {},
     "output_type": "display_data"
    },
    {
     "data": {
      "image/png": "[encoded data removed]",
      "text/plain": [
       "plot without title"
      ]
     },
     "metadata": {},
     "output_type": "display_data"
    }
   ],
   "source": [
    "predicted <- predict(model, newdata=testingSet)\n",
    "summary(predicted)\n",
    "summary(testingSet$ArrTime)\n",
    "plot(predicted,testingSet$ArrTime)"
   ]
  },
  {
   "cell_type": "code",
   "execution_count": 7,
   "metadata": {},
   "outputs": [
    {
     "data": {
      "text/html": [
       "<ol class=list-inline>\n",
       "\t<li>1093.85771113272</li>\n",
       "\t<li>0.311950122067355</li>\n",
       "</ol>\n"
      ],
      "text/latex": [
       "\\begin{enumerate*}\n",
       "\\item 1093.85771113272\n",
       "\\item 0.311950122067355\n",
       "\\end{enumerate*}\n"
      ],
      "text/markdown": [
       "1. 1093.85771113272\n",
       "2. 0.311950122067355\n",
       "\n",
       "\n"
      ],
      "text/plain": [
       "[1] 1093.8577111    0.3119501"
      ]
     },
     "metadata": {},
     "output_type": "display_data"
    },
    {
     "data": {
      "image/png": "[encoded data removed]",
      "text/plain": [
       "plot without title"
      ]
     },
     "metadata": {},
     "output_type": "display_data"
    }
   ],
   "source": [
    "x <- testingSet$ArrTime\n",
    "Y <- predicted\n",
    "b1 <- sum((x-mean(x)) * (Y - mean(Y))) / sum((x-mean(x))^2)\n",
    "b0 <- mean(Y) - b1*mean(x)\n",
    "c(b0,b1)\n",
    "plot(x,Y)\n",
    "abline(c(b0,b1),col=\"blue\",lwd=2)"
   ]
  },
  {
   "cell_type": "code",
   "execution_count": null,
   "metadata": {
    "scrolled": false
   },
   "outputs": [],
   "source": [
    "#install.packages(\"relaimpo\", repos='http://cran.us.r-project.org')\n",
    "library(relaimpo)\n",
    "calc.relimp(model, type=c(\"lmg\",\"last\",\"first\",\"pratt\"))"
   ]
  },
  {
   "cell_type": "code",
   "execution_count": null,
   "metadata": {
    "collapsed": true
   },
   "outputs": [],
   "source": []
  }
 ],
 "metadata": {
  "kernelspec": {
   "display_name": "R",
   "language": "R",
   "name": "ir"
  },
  "language_info": {
   "codemirror_mode": "r",
   "file_extension": ".r",
   "mimetype": "text/x-r-source",
   "name": "R",
   "pygments_lexer": "r",
   "version": "3.4.1"
  }
 },
 "nbformat": 4,
 "nbformat_minor": 2
}
