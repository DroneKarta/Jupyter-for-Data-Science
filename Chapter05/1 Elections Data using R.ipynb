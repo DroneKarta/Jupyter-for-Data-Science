{
 "cells": [
  {
   "cell_type": "code",
   "execution_count": 6,
   "metadata": {
    "collapsed": true
   },
   "outputs": [],
   "source": [
    "printf <- function(...)print(sprintf(...))"
   ]
  },
  {
   "cell_type": "code",
   "execution_count": 7,
   "metadata": {},
   "outputs": [
    {
     "data": {
      "text/html": [
       "<table>\n",
       "<thead><tr><th scope=col>age</th><th scope=col>Clinton</th><th scope=col>Trump</th></tr></thead>\n",
       "<tbody>\n",
       "\t<tr><td>18-24 years old</td><td>56             </td><td>35             </td></tr>\n",
       "\t<tr><td>25-29 years old</td><td>53             </td><td>39             </td></tr>\n",
       "\t<tr><td>30-39 years old</td><td>51             </td><td>40             </td></tr>\n",
       "\t<tr><td>40-49 years old</td><td>46             </td><td>50             </td></tr>\n",
       "\t<tr><td>50-64 years old</td><td>44             </td><td>53             </td></tr>\n",
       "\t<tr><td>65 and older   </td><td>45             </td><td>53             </td></tr>\n",
       "</tbody>\n",
       "</table>\n"
      ],
      "text/latex": [
       "\\begin{tabular}{r|lll}\n",
       " age & Clinton & Trump\\\\\n",
       "\\hline\n",
       "\t 18-24 years old & 56              & 35             \\\\\n",
       "\t 25-29 years old & 53              & 39             \\\\\n",
       "\t 30-39 years old & 51              & 40             \\\\\n",
       "\t 40-49 years old & 46              & 50             \\\\\n",
       "\t 50-64 years old & 44              & 53             \\\\\n",
       "\t 65 and older    & 45              & 53             \\\\\n",
       "\\end{tabular}\n"
      ],
      "text/markdown": [
       "\n",
       "age | Clinton | Trump | \n",
       "|---|---|---|---|---|---|\n",
       "| 18-24 years old | 56              | 35              | \n",
       "| 25-29 years old | 53              | 39              | \n",
       "| 30-39 years old | 51              | 40              | \n",
       "| 40-49 years old | 46              | 50              | \n",
       "| 50-64 years old | 44              | 53              | \n",
       "| 65 and older    | 45              | 53              | \n",
       "\n",
       "\n"
      ],
      "text/plain": [
       "  age             Clinton Trump\n",
       "1 18-24 years old 56      35   \n",
       "2 25-29 years old 53      39   \n",
       "3 30-39 years old 51      40   \n",
       "4 40-49 years old 46      50   \n",
       "5 50-64 years old 44      53   \n",
       "6 65 and older    45      53   "
      ]
     },
     "metadata": {},
     "output_type": "display_data"
    }
   ],
   "source": [
    "age <- read.csv(\"age.tsv\", sep=\"\\t\")\n",
    "head(age)"
   ]
  },
  {
   "cell_type": "code",
   "execution_count": 8,
   "metadata": {},
   "outputs": [
    {
     "data": {
      "text/html": [
       "<table>\n",
       "<thead><tr><th scope=col>education</th><th scope=col>Clinton</th><th scope=col>Trump</th></tr></thead>\n",
       "<tbody>\n",
       "\t<tr><td>High school or less   </td><td>45                    </td><td>51                    </td></tr>\n",
       "\t<tr><td>Some college education</td><td>43                    </td><td>52                    </td></tr>\n",
       "\t<tr><td>College graduate      </td><td>49                    </td><td>45                    </td></tr>\n",
       "\t<tr><td>Postgraduate education</td><td>58                    </td><td>37                    </td></tr>\n",
       "</tbody>\n",
       "</table>\n"
      ],
      "text/latex": [
       "\\begin{tabular}{r|lll}\n",
       " education & Clinton & Trump\\\\\n",
       "\\hline\n",
       "\t High school or less    & 45                     & 51                    \\\\\n",
       "\t Some college education & 43                     & 52                    \\\\\n",
       "\t College graduate       & 49                     & 45                    \\\\\n",
       "\t Postgraduate education & 58                     & 37                    \\\\\n",
       "\\end{tabular}\n"
      ],
      "text/markdown": [
       "\n",
       "education | Clinton | Trump | \n",
       "|---|---|---|---|\n",
       "| High school or less    | 45                     | 51                     | \n",
       "| Some college education | 43                     | 52                     | \n",
       "| College graduate       | 49                     | 45                     | \n",
       "| Postgraduate education | 58                     | 37                     | \n",
       "\n",
       "\n"
      ],
      "text/plain": [
       "  education              Clinton Trump\n",
       "1 High school or less    45      51   \n",
       "2 Some college education 43      52   \n",
       "3 College graduate       49      45   \n",
       "4 Postgraduate education 58      37   "
      ]
     },
     "metadata": {},
     "output_type": "display_data"
    }
   ],
   "source": [
    "education <- read.csv(\"education.tsv\", sep=\"\\t\")\n",
    "head(education)"
   ]
  },
  {
   "cell_type": "code",
   "execution_count": null,
   "metadata": {},
   "outputs": [],
   "source": [
    "gender <- read.csv(\"gender.tsv\", sep=\"\\t\")\n",
    "head(gender)"
   ]
  },
  {
   "cell_type": "code",
   "execution_count": null,
   "metadata": {
    "collapsed": true
   },
   "outputs": [],
   "source": [
    "ideology <- read.csv(\"ideology.tsv\", sep=\"\\t\")\n",
    "head(ideology)"
   ]
  },
  {
   "cell_type": "code",
   "execution_count": null,
   "metadata": {
    "collapsed": true
   },
   "outputs": [],
   "source": [
    "income <- read.csv(\"income.tsv\", sep=\"\\t\")\n",
    "head(income)"
   ]
  },
  {
   "cell_type": "code",
   "execution_count": null,
   "metadata": {
    "collapsed": true
   },
   "outputs": [],
   "source": [
    "orientation <- read.csv(\"orientation.tsv\", sep=\"\\t\")\n",
    "head(orientation)"
   ]
  },
  {
   "cell_type": "code",
   "execution_count": null,
   "metadata": {
    "collapsed": true
   },
   "outputs": [],
   "source": [
    "party <- read.csv(\"party.tsv\", sep=\"\\t\")\n",
    "head(party)"
   ]
  },
  {
   "cell_type": "code",
   "execution_count": null,
   "metadata": {
    "collapsed": true
   },
   "outputs": [],
   "source": [
    "race <- read.csv(\"race.tsv\", sep=\"\\t\")\n",
    "head(race)"
   ]
  },
  {
   "cell_type": "code",
   "execution_count": null,
   "metadata": {
    "collapsed": true
   },
   "outputs": [],
   "source": [
    "region <- read.csv(\"region.tsv\", sep=\"\\t\")\n",
    "head(region)"
   ]
  },
  {
   "cell_type": "code",
   "execution_count": null,
   "metadata": {
    "collapsed": true
   },
   "outputs": [],
   "source": [
    "religion <- read.csv(\"religion.tsv\", sep=\"\\t\")\n",
    "head(religion)"
   ]
  },
  {
   "cell_type": "code",
   "execution_count": null,
   "metadata": {
    "collapsed": true
   },
   "outputs": [],
   "source": [
    "printf(\"Most Clinton voters from %s\",age[which.max(age$Clinton),'age'])\n",
    "printf(\"Most Clinton voters from %s\",education[which.max(education$Clinton),'education'])\n",
    "printf(\"Most Clinton voters from %s\",gender[which.max(gender$Clinton),'gender'])\n",
    "printf(\"Most Clinton voters from %s\",ideology[which.max(ideology$Clinton),'ideology'])\n",
    "printf(\"Most Clinton voters from %s\",income[which.max(income$Clinton),'income'])\n",
    "printf(\"Most Clinton voters from %s\",orientation[which.max(orientation$Clinton),'orientation'])\n",
    "printf(\"Most Clinton voters from %s\",party[which.max(party$Clinton),'party'])\n",
    "printf(\"Most Clinton voters from %s\",race[which.max(race$Clinton),'race'])\n",
    "printf(\"Most Clinton voters from %s\",region[which.max(region$Clinton),'region'])\n",
    "printf(\"Most Clinton voters from %s\",religion[which.max(religion$Clinton),'religion'])"
   ]
  },
  {
   "cell_type": "code",
   "execution_count": null,
   "metadata": {
    "collapsed": true
   },
   "outputs": [],
   "source": [
    "printf(\"Most Trump voters from %s\",age[which.max(age$Trump),'age'])\n",
    "printf(\"Most Trump voters from %s\",education[which.max(education$Trump),'education'])\n",
    "printf(\"Most Trump voters from %s\",gender[which.max(gender$Trump),'gender'])\n",
    "printf(\"Most Trump voters from %s\",ideology[which.max(ideology$Trump),'ideology'])\n",
    "printf(\"Most Trump voters from %s\",income[which.max(income$Trump),'income'])\n",
    "printf(\"Most Trump voters from %s\",orientation[which.max(orientation$Trump),'orientation'])\n",
    "printf(\"Most Trump voters from %s\",party[which.max(party$Trump),'party'])\n",
    "printf(\"Most Trump voters from %s\",race[which.max(race$Trump),'race'])\n",
    "printf(\"Most Trump voters from %s\",region[which.max(region$Trump),'region'])\n",
    "printf(\"Most Trump voters from %s\",religion[which.max(religion$Trump),'religion'])"
   ]
  }
 ],
 "metadata": {
  "kernelspec": {
   "display_name": "R",
   "language": "R",
   "name": "ir"
  },
  "language_info": {
   "codemirror_mode": "r",
   "file_extension": ".r",
   "mimetype": "text/x-r-source",
   "name": "R",
   "pygments_lexer": "r",
   "version": "3.4.1"
  }
 },
 "nbformat": 4,
 "nbformat_minor": 2
}
