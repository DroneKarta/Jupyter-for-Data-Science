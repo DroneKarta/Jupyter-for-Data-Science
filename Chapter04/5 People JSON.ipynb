{
 "cells": [
  {
   "cell_type": "code",
   "execution_count": 11,
   "metadata": {
    "collapsed": true,
    "scrolled": true
   },
   "outputs": [],
   "source": [
    "from pyspark import SparkContext\n",
    "from pyspark.sql import SparkSession \n",
    "\n",
    "sc = SparkContext.getOrCreate()\n",
    "spark = SparkSession(sc)"
   ]
  },
  {
   "cell_type": "code",
   "execution_count": 12,
   "metadata": {},
   "outputs": [
    {
     "name": "stdout",
     "output_type": "stream",
     "text": [
      "+----+----+--------------------+---------------+\n",
      "| age|born|                fame|           name|\n",
      "+----+----+--------------------+---------------+\n",
      "|null|null|                null|        Michael|\n",
      "|  30|null|                null|           Andy|\n",
      "|  19|null|                null|         Justin|\n",
      "|null|1955|co-founder of App...|     Steve Jobs|\n",
      "|null|1955|                null|Tim Berners-Lee|\n",
      "|null|1815|                null|   George Boole|\n",
      "+----+----+--------------------+---------------+\n",
      "\n"
     ]
    }
   ],
   "source": [
    "#using some data from file from https://gist.github.com/marktyers/678711152b8dd33f6346\n",
    "df = spark.read.json(\"people.json\")\n",
    "df.show()"
   ]
  },
  {
   "cell_type": "code",
   "execution_count": 13,
   "metadata": {},
   "outputs": [
    {
     "name": "stdout",
     "output_type": "stream",
     "text": [
      "root\n",
      " |-- age: long (nullable = true)\n",
      " |-- born: long (nullable = true)\n",
      " |-- fame: string (nullable = true)\n",
      " |-- name: string (nullable = true)\n",
      "\n"
     ]
    }
   ],
   "source": [
    "df.printSchema()"
   ]
  },
  {
   "cell_type": "code",
   "execution_count": 14,
   "metadata": {},
   "outputs": [
    {
     "name": "stdout",
     "output_type": "stream",
     "text": [
      "+---------------+\n",
      "|           name|\n",
      "+---------------+\n",
      "|        Michael|\n",
      "|           Andy|\n",
      "|         Justin|\n",
      "|     Steve Jobs|\n",
      "|Tim Berners-Lee|\n",
      "|   George Boole|\n",
      "+---------------+\n",
      "\n"
     ]
    }
   ],
   "source": [
    "df.registerTempTable(\"people\")\n",
    "spark.sql(\"select name from people\").show()"
   ]
  }
 ],
 "metadata": {
  "kernelspec": {
   "display_name": "Python 3",
   "language": "python",
   "name": "python3"
  },
  "language_info": {
   "codemirror_mode": {
    "name": "ipython",
    "version": 3
   },
   "file_extension": ".py",
   "mimetype": "text/x-python",
   "name": "python",
   "nbconvert_exporter": "python",
   "pygments_lexer": "ipython3",
   "version": "3.6.0"
  }
 },
 "nbformat": 4,
 "nbformat_minor": 2
}
