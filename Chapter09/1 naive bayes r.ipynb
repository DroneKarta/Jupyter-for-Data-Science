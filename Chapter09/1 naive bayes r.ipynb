{
 "cells": [
  {
   "cell_type": "code",
   "execution_count": 4,
   "metadata": {},
   "outputs": [],
   "source": [
    "#install.packages(\"e1071\", repos=\"http://cran.r-project.org\")\n",
    "library(e1071)\n",
    "library(caret)\n",
    "library(\"neuralnet\")\n",
    "set.seed(7317)\n",
    "data(iris)"
   ]
  },
  {
   "cell_type": "code",
   "execution_count": 5,
   "metadata": {},
   "outputs": [
    {
     "data": {
      "text/html": [
       "114"
      ],
      "text/latex": [
       "114"
      ],
      "text/markdown": [
       "114"
      ],
      "text/plain": [
       "[1] 114"
      ]
     },
     "metadata": {},
     "output_type": "display_data"
    },
    {
     "data": {
      "text/html": [
       "36"
      ],
      "text/latex": [
       "36"
      ],
      "text/markdown": [
       "36"
      ],
      "text/plain": [
       "[1] 36"
      ]
     },
     "metadata": {},
     "output_type": "display_data"
    }
   ],
   "source": [
    "trainingIndices <- createDataPartition(iris$Species, p=0.75, list=FALSE)\n",
    "training <- iris[trainingIndices,]\n",
    "testing <- iris[-trainingIndices,]\n",
    "nrow(training)\n",
    "nrow(testing)"
   ]
  },
  {
   "cell_type": "code",
   "execution_count": 6,
   "metadata": {},
   "outputs": [
    {
     "data": {
      "text/plain": [
       "\n",
       "Naive Bayes Classifier for Discrete Predictors\n",
       "\n",
       "Call:\n",
       "naiveBayes.default(x = X, y = Y, laplace = laplace)\n",
       "\n",
       "A-priori probabilities:\n",
       "Y\n",
       "    setosa versicolor  virginica \n",
       " 0.3333333  0.3333333  0.3333333 \n",
       "\n",
       "Conditional probabilities:\n",
       "            Sepal.Length\n",
       "Y                [,1]      [,2]\n",
       "  setosa     4.942105 0.3293167\n",
       "  versicolor 5.950000 0.5371345\n",
       "  virginica  6.602632 0.6598472\n",
       "\n",
       "            Sepal.Width\n",
       "Y                [,1]      [,2]\n",
       "  setosa     3.371053 0.3805458\n",
       "  versicolor 2.750000 0.2966024\n",
       "  virginica  2.921053 0.2839470\n",
       "\n",
       "            Petal.Length\n",
       "Y                [,1]      [,2]\n",
       "  setosa     1.468421 0.1662061\n",
       "  versicolor 4.278947 0.4899850\n",
       "  virginica  5.544737 0.5597767\n",
       "\n",
       "            Petal.Width\n",
       "Y                 [,1]      [,2]\n",
       "  setosa     0.2421053 0.1106042\n",
       "  versicolor 1.3368421 0.1937134\n",
       "  virginica  2.0000000 0.2438431\n"
      ]
     },
     "metadata": {},
     "output_type": "display_data"
    }
   ],
   "source": [
    "model <- naiveBayes(Species ~ ., data=training)\n",
    "model"
   ]
  },
  {
   "cell_type": "code",
   "execution_count": 7,
   "metadata": {},
   "outputs": [
    {
     "data": {
      "text/html": [
       "<ol class=list-inline>\n",
       "\t<li>setosa</li>\n",
       "\t<li>setosa</li>\n",
       "\t<li>setosa</li>\n",
       "\t<li>setosa</li>\n",
       "\t<li>setosa</li>\n",
       "\t<li>setosa</li>\n",
       "\t<li>setosa</li>\n",
       "\t<li>setosa</li>\n",
       "\t<li>setosa</li>\n",
       "\t<li>setosa</li>\n",
       "\t<li>setosa</li>\n",
       "\t<li>setosa</li>\n",
       "\t<li>versicolor</li>\n",
       "\t<li>versicolor</li>\n",
       "\t<li>versicolor</li>\n",
       "\t<li>versicolor</li>\n",
       "\t<li>versicolor</li>\n",
       "\t<li>versicolor</li>\n",
       "\t<li>versicolor</li>\n",
       "\t<li>versicolor</li>\n",
       "\t<li>versicolor</li>\n",
       "\t<li>versicolor</li>\n",
       "\t<li>versicolor</li>\n",
       "\t<li>versicolor</li>\n",
       "\t<li>virginica</li>\n",
       "\t<li>virginica</li>\n",
       "\t<li>virginica</li>\n",
       "\t<li>virginica</li>\n",
       "\t<li>virginica</li>\n",
       "\t<li>virginica</li>\n",
       "\t<li>versicolor</li>\n",
       "\t<li>virginica</li>\n",
       "\t<li>virginica</li>\n",
       "\t<li>virginica</li>\n",
       "\t<li>virginica</li>\n",
       "\t<li>virginica</li>\n",
       "</ol>\n"
      ],
      "text/latex": [
       "\\begin{enumerate*}\n",
       "\\item setosa\n",
       "\\item setosa\n",
       "\\item setosa\n",
       "\\item setosa\n",
       "\\item setosa\n",
       "\\item setosa\n",
       "\\item setosa\n",
       "\\item setosa\n",
       "\\item setosa\n",
       "\\item setosa\n",
       "\\item setosa\n",
       "\\item setosa\n",
       "\\item versicolor\n",
       "\\item versicolor\n",
       "\\item versicolor\n",
       "\\item versicolor\n",
       "\\item versicolor\n",
       "\\item versicolor\n",
       "\\item versicolor\n",
       "\\item versicolor\n",
       "\\item versicolor\n",
       "\\item versicolor\n",
       "\\item versicolor\n",
       "\\item versicolor\n",
       "\\item virginica\n",
       "\\item virginica\n",
       "\\item virginica\n",
       "\\item virginica\n",
       "\\item virginica\n",
       "\\item virginica\n",
       "\\item versicolor\n",
       "\\item virginica\n",
       "\\item virginica\n",
       "\\item virginica\n",
       "\\item virginica\n",
       "\\item virginica\n",
       "\\end{enumerate*}\n"
      ],
      "text/markdown": [
       "1. setosa\n",
       "2. setosa\n",
       "3. setosa\n",
       "4. setosa\n",
       "5. setosa\n",
       "6. setosa\n",
       "7. setosa\n",
       "8. setosa\n",
       "9. setosa\n",
       "10. setosa\n",
       "11. setosa\n",
       "12. setosa\n",
       "13. versicolor\n",
       "14. versicolor\n",
       "15. versicolor\n",
       "16. versicolor\n",
       "17. versicolor\n",
       "18. versicolor\n",
       "19. versicolor\n",
       "20. versicolor\n",
       "21. versicolor\n",
       "22. versicolor\n",
       "23. versicolor\n",
       "24. versicolor\n",
       "25. virginica\n",
       "26. virginica\n",
       "27. virginica\n",
       "28. virginica\n",
       "29. virginica\n",
       "30. virginica\n",
       "31. versicolor\n",
       "32. virginica\n",
       "33. virginica\n",
       "34. virginica\n",
       "35. virginica\n",
       "36. virginica\n",
       "\n",
       "\n"
      ],
      "text/plain": [
       " [1] setosa     setosa     setosa     setosa     setosa     setosa    \n",
       " [7] setosa     setosa     setosa     setosa     setosa     setosa    \n",
       "[13] versicolor versicolor versicolor versicolor versicolor versicolor\n",
       "[19] versicolor versicolor versicolor versicolor versicolor versicolor\n",
       "[25] virginica  virginica  virginica  virginica  virginica  virginica \n",
       "[31] versicolor virginica  virginica  virginica  virginica  virginica \n",
       "Levels: setosa versicolor virginica"
      ]
     },
     "metadata": {},
     "output_type": "display_data"
    }
   ],
   "source": [
    "prediction <- predict(model, testing, type=\"class\")\n",
    "prediction"
   ]
  },
  {
   "cell_type": "code",
   "execution_count": 8,
   "metadata": {},
   "outputs": [
    {
     "data": {
      "text/html": [
       "<table>\n",
       "<thead><tr><th scope=col>testing.Species</th><th scope=col>prediction</th></tr></thead>\n",
       "<tbody>\n",
       "\t<tr><td>setosa</td><td>setosa</td></tr>\n",
       "\t<tr><td>setosa</td><td>setosa</td></tr>\n",
       "\t<tr><td>setosa</td><td>setosa</td></tr>\n",
       "\t<tr><td>setosa</td><td>setosa</td></tr>\n",
       "\t<tr><td>setosa</td><td>setosa</td></tr>\n",
       "\t<tr><td>setosa</td><td>setosa</td></tr>\n",
       "</tbody>\n",
       "</table>\n"
      ],
      "text/latex": [
       "\\begin{tabular}{r|ll}\n",
       " testing.Species & prediction\\\\\n",
       "\\hline\n",
       "\t setosa & setosa\\\\\n",
       "\t setosa & setosa\\\\\n",
       "\t setosa & setosa\\\\\n",
       "\t setosa & setosa\\\\\n",
       "\t setosa & setosa\\\\\n",
       "\t setosa & setosa\\\\\n",
       "\\end{tabular}\n"
      ],
      "text/markdown": [
       "\n",
       "testing.Species | prediction | \n",
       "|---|---|---|---|---|---|\n",
       "| setosa | setosa | \n",
       "| setosa | setosa | \n",
       "| setosa | setosa | \n",
       "| setosa | setosa | \n",
       "| setosa | setosa | \n",
       "| setosa | setosa | \n",
       "\n",
       "\n"
      ],
      "text/plain": [
       "  testing.Species prediction\n",
       "1 setosa          setosa    \n",
       "2 setosa          setosa    \n",
       "3 setosa          setosa    \n",
       "4 setosa          setosa    \n",
       "5 setosa          setosa    \n",
       "6 setosa          setosa    "
      ]
     },
     "metadata": {},
     "output_type": "display_data"
    }
   ],
   "source": [
    "results <- data.frame(testing$Species, prediction)\n",
    "head(results)"
   ]
  },
  {
   "cell_type": "code",
   "execution_count": 9,
   "metadata": {},
   "outputs": [
    {
     "data": {
      "text/html": [
       "<table>\n",
       "<thead><tr><th scope=col>testing.Species</th><th scope=col>prediction</th><th scope=col>accurate</th></tr></thead>\n",
       "<tbody>\n",
       "\t<tr><td>setosa</td><td>setosa</td><td>TRUE  </td></tr>\n",
       "\t<tr><td>setosa</td><td>setosa</td><td>TRUE  </td></tr>\n",
       "\t<tr><td>setosa</td><td>setosa</td><td>TRUE  </td></tr>\n",
       "\t<tr><td>setosa</td><td>setosa</td><td>TRUE  </td></tr>\n",
       "\t<tr><td>setosa</td><td>setosa</td><td>TRUE  </td></tr>\n",
       "\t<tr><td>setosa</td><td>setosa</td><td>TRUE  </td></tr>\n",
       "</tbody>\n",
       "</table>\n"
      ],
      "text/latex": [
       "\\begin{tabular}{r|lll}\n",
       " testing.Species & prediction & accurate\\\\\n",
       "\\hline\n",
       "\t setosa & setosa & TRUE  \\\\\n",
       "\t setosa & setosa & TRUE  \\\\\n",
       "\t setosa & setosa & TRUE  \\\\\n",
       "\t setosa & setosa & TRUE  \\\\\n",
       "\t setosa & setosa & TRUE  \\\\\n",
       "\t setosa & setosa & TRUE  \\\\\n",
       "\\end{tabular}\n"
      ],
      "text/markdown": [
       "\n",
       "testing.Species | prediction | accurate | \n",
       "|---|---|---|---|---|---|\n",
       "| setosa | setosa | TRUE   | \n",
       "| setosa | setosa | TRUE   | \n",
       "| setosa | setosa | TRUE   | \n",
       "| setosa | setosa | TRUE   | \n",
       "| setosa | setosa | TRUE   | \n",
       "| setosa | setosa | TRUE   | \n",
       "\n",
       "\n"
      ],
      "text/plain": [
       "  testing.Species prediction accurate\n",
       "1 setosa          setosa     TRUE    \n",
       "2 setosa          setosa     TRUE    \n",
       "3 setosa          setosa     TRUE    \n",
       "4 setosa          setosa     TRUE    \n",
       "5 setosa          setosa     TRUE    \n",
       "6 setosa          setosa     TRUE    "
      ]
     },
     "metadata": {},
     "output_type": "display_data"
    }
   ],
   "source": [
    "results[\"accurate\"] <- results['testing.Species'] == results['prediction']\n",
    "head(results)"
   ]
  },
  {
   "cell_type": "code",
   "execution_count": 10,
   "metadata": {},
   "outputs": [
    {
     "data": {
      "text/html": [
       "36"
      ],
      "text/latex": [
       "36"
      ],
      "text/markdown": [
       "36"
      ],
      "text/plain": [
       "[1] 36"
      ]
     },
     "metadata": {},
     "output_type": "display_data"
    },
    {
     "data": {
      "text/html": [
       "35"
      ],
      "text/latex": [
       "35"
      ],
      "text/markdown": [
       "35"
      ],
      "text/plain": [
       "[1] 35"
      ]
     },
     "metadata": {},
     "output_type": "display_data"
    }
   ],
   "source": [
    "nrow(results)\n",
    "nrow(results[results$accurate == TRUE,])"
   ]
  }
 ],
 "metadata": {
  "kernelspec": {
   "display_name": "R",
   "language": "R",
   "name": "ir"
  },
  "language_info": {
   "codemirror_mode": "r",
   "file_extension": ".r",
   "mimetype": "text/x-r-source",
   "name": "R",
   "pygments_lexer": "r",
   "version": "3.4.1"
  }
 },
 "nbformat": 4,
 "nbformat_minor": 2
}
