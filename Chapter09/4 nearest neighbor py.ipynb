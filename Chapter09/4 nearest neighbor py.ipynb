{
 "cells": [
  {
   "cell_type": "code",
   "execution_count": 58,
   "metadata": {
    "collapsed": true
   },
   "outputs": [],
   "source": [
    "from sklearn.neighbors import NearestNeighbors\n",
    "import numpy as np\n",
    "import pandas as pd"
   ]
  },
  {
   "cell_type": "code",
   "execution_count": 59,
   "metadata": {},
   "outputs": [
    {
     "data": {
      "text/html": [
       "<div>\n",
       "<style>\n",
       "    .dataframe thead tr:only-child th {\n",
       "        text-align: right;\n",
       "    }\n",
       "\n",
       "    .dataframe thead th {\n",
       "        text-align: left;\n",
       "    }\n",
       "\n",
       "    .dataframe tbody tr th {\n",
       "        vertical-align: top;\n",
       "    }\n",
       "</style>\n",
       "<table border=\"1\" class=\"dataframe\">\n",
       "  <thead>\n",
       "    <tr style=\"text-align: right;\">\n",
       "      <th></th>\n",
       "      <th>CRIM</th>\n",
       "      <th>ZN</th>\n",
       "      <th>INDUS</th>\n",
       "      <th>CHAS</th>\n",
       "      <th>NOX</th>\n",
       "      <th>RM</th>\n",
       "      <th>AGE</th>\n",
       "      <th>DIS</th>\n",
       "      <th>RAD</th>\n",
       "      <th>TAX</th>\n",
       "      <th>PRATIO</th>\n",
       "      <th>B</th>\n",
       "      <th>LSTAT</th>\n",
       "      <th>MDEV</th>\n",
       "    </tr>\n",
       "  </thead>\n",
       "  <tbody>\n",
       "    <tr>\n",
       "      <th>0</th>\n",
       "      <td>0.00632</td>\n",
       "      <td>18.0</td>\n",
       "      <td>2.31</td>\n",
       "      <td>0</td>\n",
       "      <td>0.538</td>\n",
       "      <td>6.575</td>\n",
       "      <td>65.2</td>\n",
       "      <td>4.0900</td>\n",
       "      <td>1</td>\n",
       "      <td>296.0</td>\n",
       "      <td>15.3</td>\n",
       "      <td>396.90</td>\n",
       "      <td>4.98</td>\n",
       "      <td>24.0</td>\n",
       "    </tr>\n",
       "    <tr>\n",
       "      <th>1</th>\n",
       "      <td>0.02731</td>\n",
       "      <td>0.0</td>\n",
       "      <td>7.07</td>\n",
       "      <td>0</td>\n",
       "      <td>0.469</td>\n",
       "      <td>6.421</td>\n",
       "      <td>78.9</td>\n",
       "      <td>4.9671</td>\n",
       "      <td>2</td>\n",
       "      <td>242.0</td>\n",
       "      <td>17.8</td>\n",
       "      <td>396.90</td>\n",
       "      <td>9.14</td>\n",
       "      <td>21.6</td>\n",
       "    </tr>\n",
       "    <tr>\n",
       "      <th>2</th>\n",
       "      <td>0.02729</td>\n",
       "      <td>0.0</td>\n",
       "      <td>7.07</td>\n",
       "      <td>0</td>\n",
       "      <td>0.469</td>\n",
       "      <td>7.185</td>\n",
       "      <td>61.1</td>\n",
       "      <td>4.9671</td>\n",
       "      <td>2</td>\n",
       "      <td>242.0</td>\n",
       "      <td>17.8</td>\n",
       "      <td>392.83</td>\n",
       "      <td>4.03</td>\n",
       "      <td>34.7</td>\n",
       "    </tr>\n",
       "    <tr>\n",
       "      <th>3</th>\n",
       "      <td>0.03237</td>\n",
       "      <td>0.0</td>\n",
       "      <td>2.18</td>\n",
       "      <td>0</td>\n",
       "      <td>0.458</td>\n",
       "      <td>6.998</td>\n",
       "      <td>45.8</td>\n",
       "      <td>6.0622</td>\n",
       "      <td>3</td>\n",
       "      <td>222.0</td>\n",
       "      <td>18.7</td>\n",
       "      <td>394.63</td>\n",
       "      <td>2.94</td>\n",
       "      <td>33.4</td>\n",
       "    </tr>\n",
       "    <tr>\n",
       "      <th>4</th>\n",
       "      <td>0.06905</td>\n",
       "      <td>0.0</td>\n",
       "      <td>2.18</td>\n",
       "      <td>0</td>\n",
       "      <td>0.458</td>\n",
       "      <td>7.147</td>\n",
       "      <td>54.2</td>\n",
       "      <td>6.0622</td>\n",
       "      <td>3</td>\n",
       "      <td>222.0</td>\n",
       "      <td>18.7</td>\n",
       "      <td>396.90</td>\n",
       "      <td>5.33</td>\n",
       "      <td>36.2</td>\n",
       "    </tr>\n",
       "  </tbody>\n",
       "</table>\n",
       "</div>"
      ],
      "text/plain": [
       "      CRIM    ZN  INDUS  CHAS    NOX     RM   AGE     DIS  RAD    TAX  PRATIO  \\\n",
       "0  0.00632  18.0   2.31     0  0.538  6.575  65.2  4.0900    1  296.0    15.3   \n",
       "1  0.02731   0.0   7.07     0  0.469  6.421  78.9  4.9671    2  242.0    17.8   \n",
       "2  0.02729   0.0   7.07     0  0.469  7.185  61.1  4.9671    2  242.0    17.8   \n",
       "3  0.03237   0.0   2.18     0  0.458  6.998  45.8  6.0622    3  222.0    18.7   \n",
       "4  0.06905   0.0   2.18     0  0.458  7.147  54.2  6.0622    3  222.0    18.7   \n",
       "\n",
       "        B  LSTAT  MDEV  \n",
       "0  396.90   4.98  24.0  \n",
       "1  396.90   9.14  21.6  \n",
       "2  392.83   4.03  34.7  \n",
       "3  394.63   2.94  33.4  \n",
       "4  396.90   5.33  36.2  "
      ]
     },
     "execution_count": 59,
     "metadata": {},
     "output_type": "execute_result"
    }
   ],
   "source": [
    "housing = pd.read_csv(\"http://archive.ics.uci.edu/ml/machine-learning-databases/housing/housing.data\",\n",
    "                     header=None, sep='\\s+')\n",
    "housing.columns = [\"CRIM\", \"ZN\", \"INDUS\", \"CHAS\", \"NOX\", \"RM\", \"AGE\", \"DIS\", \"RAD\", \"TAX\", \"PRATIO\", \\\n",
    "                   \"B\", \"LSTAT\", \"MDEV\"]\n",
    "housing.head(5)"
   ]
  },
  {
   "cell_type": "code",
   "execution_count": 60,
   "metadata": {},
   "outputs": [
    {
     "data": {
      "text/plain": [
       "506"
      ]
     },
     "execution_count": 60,
     "metadata": {},
     "output_type": "execute_result"
    }
   ],
   "source": [
    "len(housing)"
   ]
  },
  {
   "cell_type": "code",
   "execution_count": 61,
   "metadata": {},
   "outputs": [
    {
     "data": {
      "text/plain": [
       "417"
      ]
     },
     "execution_count": 61,
     "metadata": {},
     "output_type": "execute_result"
    }
   ],
   "source": [
    "mask = np.random.rand(len(housing)) < 0.8\n",
    "training = housing[mask]\n",
    "testing = housing[~mask]\n",
    "len(training)"
   ]
  },
  {
   "cell_type": "code",
   "execution_count": 62,
   "metadata": {},
   "outputs": [
    {
     "data": {
      "text/plain": [
       "89"
      ]
     },
     "execution_count": 62,
     "metadata": {},
     "output_type": "execute_result"
    }
   ],
   "source": [
    "len(testing)"
   ]
  },
  {
   "cell_type": "code",
   "execution_count": 63,
   "metadata": {
    "collapsed": true
   },
   "outputs": [],
   "source": [
    "nbrs = NearestNeighbors().fit(housing)"
   ]
  },
  {
   "cell_type": "code",
   "execution_count": 64,
   "metadata": {},
   "outputs": [
    {
     "data": {
      "text/plain": [
       "array([[  0, 241,  62,  81,   6],\n",
       "       [  1,  47,  49,  87,   2],\n",
       "       [  2,  85,  87,  84,   5],\n",
       "       ..., \n",
       "       [503, 504, 219,  88, 217],\n",
       "       [504, 503, 219,  88, 217],\n",
       "       [505, 502, 504, 503,  91]], dtype=int32)"
      ]
     },
     "execution_count": 64,
     "metadata": {},
     "output_type": "execute_result"
    }
   ],
   "source": [
    "distances, indices = nbrs.kneighbors(housing)\n",
    "indices                                           "
   ]
  },
  {
   "cell_type": "code",
   "execution_count": 65,
   "metadata": {},
   "outputs": [
    {
     "data": {
      "text/plain": [
       "array([[  0.        ,  16.5628085 ,  17.09498324,  18.40127391,\n",
       "         19.10555821],\n",
       "       [  0.        ,  16.18433277,  20.59837827,  22.95753545,\n",
       "         23.05885288],\n",
       "       [  0.        ,  11.44014392,  15.34074743,  19.2322435 ,\n",
       "         21.73264817],\n",
       "       ..., \n",
       "       [  0.        ,   4.38093898,   9.44318468,  10.79865973,\n",
       "         11.95458848],\n",
       "       [  0.        ,   4.38093898,   8.88725757,  10.88003717,\n",
       "         11.15236419],\n",
       "       [  0.        ,   9.69512304,  13.73766871,  15.93946676,\n",
       "         15.94577477]])"
      ]
     },
     "execution_count": 65,
     "metadata": {},
     "output_type": "execute_result"
    }
   ],
   "source": [
    "distances"
   ]
  },
  {
   "cell_type": "code",
   "execution_count": 66,
   "metadata": {},
   "outputs": [
    {
     "data": {
      "text/plain": [
       "KNeighborsRegressor(algorithm='auto', leaf_size=30, metric='minkowski',\n",
       "          metric_params=None, n_jobs=1, n_neighbors=5, p=2,\n",
       "          weights='uniform')"
      ]
     },
     "execution_count": 66,
     "metadata": {},
     "output_type": "execute_result"
    }
   ],
   "source": [
    "from sklearn.neighbors import KNeighborsRegressor\n",
    "knn = KNeighborsRegressor(n_neighbors=5)\n",
    "x_columns = [\"CRIM\", \"ZN\", \"INDUS\", \"CHAS\", \"NOX\", \"RM\", \"AGE\", \"DIS\", \"RAD\", \"TAX\", \"PRATIO\", \"B\", \"LSTAT\"]\n",
    "y_column = [\"MDEV\"]\n",
    "knn.fit(training[x_columns], training[y_column])"
   ]
  },
  {
   "cell_type": "code",
   "execution_count": 67,
   "metadata": {},
   "outputs": [
    {
     "data": {
      "text/plain": [
       "array([[ 20.62],\n",
       "       [ 21.18],\n",
       "       [ 23.96],\n",
       "       [ 17.14],\n",
       "       [ 17.24],\n",
       "       [ 18.68],\n",
       "       [ 28.88],\n",
       "       [ 37.54],\n",
       "       [ 26.68],\n",
       "       [ 39.02],\n",
       "       [ 25.96],\n",
       "       [ 21.9 ],\n",
       "       [ 21.9 ],\n",
       "       [ 25.42],\n",
       "       [ 23.7 ],\n",
       "       [ 25.54],\n",
       "       [ 20.84],\n",
       "       [ 19.28],\n",
       "       [ 18.04],\n",
       "       [ 18.72],\n",
       "       [ 15.5 ],\n",
       "       [ 18.26],\n",
       "       [ 20.86],\n",
       "       [ 37.22],\n",
       "       [ 32.8 ],\n",
       "       [ 24.66],\n",
       "       [ 24.84],\n",
       "       [ 28.86],\n",
       "       [ 37.92],\n",
       "       [ 27.58],\n",
       "       [ 27.58],\n",
       "       [ 29.  ],\n",
       "       [ 27.28],\n",
       "       [ 22.52],\n",
       "       [ 23.86],\n",
       "       [ 23.58],\n",
       "       [ 28.46],\n",
       "       [ 23.86],\n",
       "       [ 27.82],\n",
       "       [ 21.96],\n",
       "       [ 19.68],\n",
       "       [ 31.26],\n",
       "       [ 42.88],\n",
       "       [ 42.88],\n",
       "       [ 36.16],\n",
       "       [ 33.28],\n",
       "       [ 32.76],\n",
       "       [ 29.5 ],\n",
       "       [ 29.86],\n",
       "       [ 34.82],\n",
       "       [ 41.6 ],\n",
       "       [ 29.96],\n",
       "       [ 20.18],\n",
       "       [ 22.64],\n",
       "       [ 22.38],\n",
       "       [ 20.66],\n",
       "       [ 26.08],\n",
       "       [ 19.58],\n",
       "       [ 26.1 ],\n",
       "       [ 19.66],\n",
       "       [ 19.66],\n",
       "       [ 10.76],\n",
       "       [ 10.54],\n",
       "       [ 10.2 ],\n",
       "       [ 11.32],\n",
       "       [ 15.84],\n",
       "       [ 12.6 ],\n",
       "       [ 10.88],\n",
       "       [ 13.72],\n",
       "       [ 17.36],\n",
       "       [ 10.32],\n",
       "       [ 11.76],\n",
       "       [ 14.7 ],\n",
       "       [ 14.  ],\n",
       "       [  9.36],\n",
       "       [ 11.52],\n",
       "       [ 12.56],\n",
       "       [ 16.48],\n",
       "       [ 14.56],\n",
       "       [ 22.26],\n",
       "       [ 21.22],\n",
       "       [ 22.66],\n",
       "       [ 23.7 ],\n",
       "       [ 22.26],\n",
       "       [ 22.34],\n",
       "       [ 23.18],\n",
       "       [ 21.58],\n",
       "       [ 14.48],\n",
       "       [ 20.46]])"
      ]
     },
     "execution_count": 67,
     "metadata": {},
     "output_type": "execute_result"
    }
   ],
   "source": [
    "predictions = knn.predict(testing[x_columns])\n",
    "predictions"
   ]
  },
  {
   "cell_type": "code",
   "execution_count": 68,
   "metadata": {},
   "outputs": [
    {
     "data": {
      "text/plain": [
       "testing       22.159551\n",
       "prediction    22.931011\n",
       "diff          -0.771461\n",
       "pct           -0.099104\n",
       "dtype: float64"
      ]
     },
     "execution_count": 68,
     "metadata": {},
     "output_type": "execute_result"
    }
   ],
   "source": [
    "columns = [\"testing\",\"prediction\",\"diff\"]\n",
    "index = range(len(testing))\n",
    "results = pd.DataFrame(index=index, columns=columns)\n",
    "\n",
    "results['prediction'] = predictions\n",
    "\n",
    "results = results.reset_index(drop=True)\n",
    "testing = testing.reset_index(drop=True)\n",
    "results['testing'] = testing[\"MDEV\"]\n",
    "\n",
    "results['diff'] = results['testing'] - results['prediction']\n",
    "results['pct'] = results['diff'] / results['testing']\n",
    "results.mean()"
   ]
  }
 ],
 "metadata": {
  "kernelspec": {
   "display_name": "Python 3",
   "language": "python",
   "name": "python3"
  },
  "language_info": {
   "codemirror_mode": {
    "name": "ipython",
    "version": 3
   },
   "file_extension": ".py",
   "mimetype": "text/x-python",
   "name": "python",
   "nbconvert_exporter": "python",
   "pygments_lexer": "ipython3",
   "version": "3.6.1"
  }
 },
 "nbformat": 4,
 "nbformat_minor": 2
}
